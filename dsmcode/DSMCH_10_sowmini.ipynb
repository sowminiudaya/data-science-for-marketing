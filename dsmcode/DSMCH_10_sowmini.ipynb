{
  "cells": [
    {
      "cell_type": "code",
      "execution_count": 4,
      "metadata": {
        "id": "4kGLtzWkND5X"
      },
      "outputs": [],
      "source": [
        "%matplotlib inline\n",
        "import matplotlib.pyplot as plt\n",
        "import pandas as pd\n",
        "import numpy as np"
      ]
    },
    {
      "cell_type": "markdown",
      "metadata": {
        "id": "fWhryFJYQhbX"
      },
      "source": [
        "#**1. Load Data**"
      ]
    },
    {
      "cell_type": "code",
      "execution_count": 5,
      "metadata": {
        "id": "Yfsi7ec4Qd7A"
      },
      "outputs": [],
      "source": [
        "df = pd.read_excel('D:/data_science for marketing/data/Online Retail.xlsx', sheet_name='Online Retail')"
      ]
    },
    {
      "cell_type": "code",
      "execution_count": 6,
      "metadata": {
        "colab": {
          "base_uri": "https://localhost:8080/"
        },
        "id": "Su6PEHcGQtO0",
        "outputId": "cd6f5d14-86d6-4555-e3b7-4549be1f0220"
      },
      "outputs": [
        {
          "data": {
            "text/plain": [
              "(541909, 8)"
            ]
          },
          "execution_count": 6,
          "metadata": {},
          "output_type": "execute_result"
        }
      ],
      "source": [
        "df.shape"
      ]
    },
    {
      "cell_type": "code",
      "execution_count": 7,
      "metadata": {
        "colab": {
          "base_uri": "https://localhost:8080/",
          "height": 293
        },
        "id": "X0OxWlX6QvKS",
        "outputId": "ff5ded27-fe3a-47b4-b5fe-22b41e778144"
      },
      "outputs": [
        {
          "data": {
            "text/html": [
              "<div>\n",
              "<style scoped>\n",
              "    .dataframe tbody tr th:only-of-type {\n",
              "        vertical-align: middle;\n",
              "    }\n",
              "\n",
              "    .dataframe tbody tr th {\n",
              "        vertical-align: top;\n",
              "    }\n",
              "\n",
              "    .dataframe thead th {\n",
              "        text-align: right;\n",
              "    }\n",
              "</style>\n",
              "<table border=\"1\" class=\"dataframe\">\n",
              "  <thead>\n",
              "    <tr style=\"text-align: right;\">\n",
              "      <th></th>\n",
              "      <th>InvoiceNo</th>\n",
              "      <th>StockCode</th>\n",
              "      <th>Description</th>\n",
              "      <th>Quantity</th>\n",
              "      <th>InvoiceDate</th>\n",
              "      <th>UnitPrice</th>\n",
              "      <th>CustomerID</th>\n",
              "      <th>Country</th>\n",
              "    </tr>\n",
              "  </thead>\n",
              "  <tbody>\n",
              "    <tr>\n",
              "      <th>0</th>\n",
              "      <td>536365</td>\n",
              "      <td>85123A</td>\n",
              "      <td>WHITE HANGING HEART T-LIGHT HOLDER</td>\n",
              "      <td>6</td>\n",
              "      <td>2010-12-01 08:26:00</td>\n",
              "      <td>2.55</td>\n",
              "      <td>17850.0</td>\n",
              "      <td>United Kingdom</td>\n",
              "    </tr>\n",
              "    <tr>\n",
              "      <th>1</th>\n",
              "      <td>536365</td>\n",
              "      <td>71053</td>\n",
              "      <td>WHITE METAL LANTERN</td>\n",
              "      <td>6</td>\n",
              "      <td>2010-12-01 08:26:00</td>\n",
              "      <td>3.39</td>\n",
              "      <td>17850.0</td>\n",
              "      <td>United Kingdom</td>\n",
              "    </tr>\n",
              "    <tr>\n",
              "      <th>2</th>\n",
              "      <td>536365</td>\n",
              "      <td>84406B</td>\n",
              "      <td>CREAM CUPID HEARTS COAT HANGER</td>\n",
              "      <td>8</td>\n",
              "      <td>2010-12-01 08:26:00</td>\n",
              "      <td>2.75</td>\n",
              "      <td>17850.0</td>\n",
              "      <td>United Kingdom</td>\n",
              "    </tr>\n",
              "    <tr>\n",
              "      <th>3</th>\n",
              "      <td>536365</td>\n",
              "      <td>84029G</td>\n",
              "      <td>KNITTED UNION FLAG HOT WATER BOTTLE</td>\n",
              "      <td>6</td>\n",
              "      <td>2010-12-01 08:26:00</td>\n",
              "      <td>3.39</td>\n",
              "      <td>17850.0</td>\n",
              "      <td>United Kingdom</td>\n",
              "    </tr>\n",
              "    <tr>\n",
              "      <th>4</th>\n",
              "      <td>536365</td>\n",
              "      <td>84029E</td>\n",
              "      <td>RED WOOLLY HOTTIE WHITE HEART.</td>\n",
              "      <td>6</td>\n",
              "      <td>2010-12-01 08:26:00</td>\n",
              "      <td>3.39</td>\n",
              "      <td>17850.0</td>\n",
              "      <td>United Kingdom</td>\n",
              "    </tr>\n",
              "  </tbody>\n",
              "</table>\n",
              "</div>"
            ],
            "text/plain": [
              "  InvoiceNo StockCode                          Description  Quantity  \\\n",
              "0    536365    85123A   WHITE HANGING HEART T-LIGHT HOLDER         6   \n",
              "1    536365     71053                  WHITE METAL LANTERN         6   \n",
              "2    536365    84406B       CREAM CUPID HEARTS COAT HANGER         8   \n",
              "3    536365    84029G  KNITTED UNION FLAG HOT WATER BOTTLE         6   \n",
              "4    536365    84029E       RED WOOLLY HOTTIE WHITE HEART.         6   \n",
              "\n",
              "          InvoiceDate  UnitPrice  CustomerID         Country  \n",
              "0 2010-12-01 08:26:00       2.55     17850.0  United Kingdom  \n",
              "1 2010-12-01 08:26:00       3.39     17850.0  United Kingdom  \n",
              "2 2010-12-01 08:26:00       2.75     17850.0  United Kingdom  \n",
              "3 2010-12-01 08:26:00       3.39     17850.0  United Kingdom  \n",
              "4 2010-12-01 08:26:00       3.39     17850.0  United Kingdom  "
            ]
          },
          "execution_count": 7,
          "metadata": {},
          "output_type": "execute_result"
        }
      ],
      "source": [
        "df.head()"
      ]
    },
    {
      "cell_type": "markdown",
      "metadata": {
        "id": "fp3lgPQVQxFq"
      },
      "source": [
        "#**2. Data Clean-Up**"
      ]
    },
    {
      "cell_type": "markdown",
      "metadata": {
        "id": "Ggpwdv4PQ4Jf"
      },
      "source": [
        "### - Negative Quantity"
      ]
    },
    {
      "cell_type": "code",
      "execution_count": 8,
      "metadata": {
        "colab": {
          "base_uri": "https://localhost:8080/"
        },
        "id": "GXFvbwJOQ25f",
        "outputId": "2d33fae9-8861-4674-f9f8-06274072386c"
      },
      "outputs": [
        {
          "data": {
            "text/plain": [
              "(10624, 8)"
            ]
          },
          "execution_count": 8,
          "metadata": {},
          "output_type": "execute_result"
        }
      ],
      "source": [
        "df.loc[df['Quantity'] <= 0].shape"
      ]
    },
    {
      "cell_type": "code",
      "execution_count": 9,
      "metadata": {
        "colab": {
          "base_uri": "https://localhost:8080/"
        },
        "id": "uEECdVb4Q8_f",
        "outputId": "6359da62-7730-42c9-9eb6-e809d37ce19d"
      },
      "outputs": [
        {
          "data": {
            "text/plain": [
              "(541909, 8)"
            ]
          },
          "execution_count": 9,
          "metadata": {},
          "output_type": "execute_result"
        }
      ],
      "source": [
        "df.shape"
      ]
    },
    {
      "cell_type": "code",
      "execution_count": 10,
      "metadata": {
        "id": "v4LIfRQQQ_NW"
      },
      "outputs": [],
      "source": [
        "df = df.loc[df['Quantity'] > 0]"
      ]
    },
    {
      "cell_type": "code",
      "execution_count": 11,
      "metadata": {
        "colab": {
          "base_uri": "https://localhost:8080/"
        },
        "id": "htjTD-w7RBbX",
        "outputId": "738f71ec-c9d8-45c1-aaea-2e5659e5e046"
      },
      "outputs": [
        {
          "data": {
            "text/plain": [
              "(531285, 8)"
            ]
          },
          "execution_count": 11,
          "metadata": {},
          "output_type": "execute_result"
        }
      ],
      "source": [
        "df.shape"
      ]
    },
    {
      "cell_type": "markdown",
      "metadata": {
        "id": "pcJ47Uz5RHRn"
      },
      "source": [
        "### - Missing CustomerID"
      ]
    },
    {
      "cell_type": "code",
      "execution_count": 12,
      "metadata": {
        "colab": {
          "base_uri": "https://localhost:8080/"
        },
        "id": "ykM7IkJjRKxn",
        "outputId": "79987745-b88b-4ae8-8394-590bbab69b62"
      },
      "outputs": [
        {
          "data": {
            "text/plain": [
              "np.int64(133361)"
            ]
          },
          "execution_count": 12,
          "metadata": {},
          "output_type": "execute_result"
        }
      ],
      "source": [
        "pd.isnull(df['CustomerID']).sum()"
      ]
    },
    {
      "cell_type": "code",
      "execution_count": 13,
      "metadata": {
        "colab": {
          "base_uri": "https://localhost:8080/"
        },
        "id": "gMhfy5uURNlf",
        "outputId": "56b7253d-e9aa-4355-f7aa-2b7951992010"
      },
      "outputs": [
        {
          "data": {
            "text/plain": [
              "(531285, 8)"
            ]
          },
          "execution_count": 13,
          "metadata": {},
          "output_type": "execute_result"
        }
      ],
      "source": [
        "df.shape"
      ]
    },
    {
      "cell_type": "code",
      "execution_count": 14,
      "metadata": {
        "id": "x8Fg9HgTREbP"
      },
      "outputs": [],
      "source": [
        "df = df[pd.notnull(df['CustomerID'])]"
      ]
    },
    {
      "cell_type": "code",
      "execution_count": 15,
      "metadata": {
        "colab": {
          "base_uri": "https://localhost:8080/"
        },
        "id": "AsyW0eB6TE8N",
        "outputId": "7d30d4d8-775e-4598-f5b6-619671fbf548"
      },
      "outputs": [
        {
          "data": {
            "text/plain": [
              "(397924, 8)"
            ]
          },
          "execution_count": 15,
          "metadata": {},
          "output_type": "execute_result"
        }
      ],
      "source": [
        "df.shape"
      ]
    },
    {
      "cell_type": "code",
      "execution_count": 16,
      "metadata": {
        "colab": {
          "base_uri": "https://localhost:8080/",
          "height": 293
        },
        "id": "jxAR3-W6TIZv",
        "outputId": "99e2b94f-e07c-40da-e01b-eb5e6d06e02c"
      },
      "outputs": [
        {
          "data": {
            "text/html": [
              "<div>\n",
              "<style scoped>\n",
              "    .dataframe tbody tr th:only-of-type {\n",
              "        vertical-align: middle;\n",
              "    }\n",
              "\n",
              "    .dataframe tbody tr th {\n",
              "        vertical-align: top;\n",
              "    }\n",
              "\n",
              "    .dataframe thead th {\n",
              "        text-align: right;\n",
              "    }\n",
              "</style>\n",
              "<table border=\"1\" class=\"dataframe\">\n",
              "  <thead>\n",
              "    <tr style=\"text-align: right;\">\n",
              "      <th></th>\n",
              "      <th>InvoiceNo</th>\n",
              "      <th>StockCode</th>\n",
              "      <th>Description</th>\n",
              "      <th>Quantity</th>\n",
              "      <th>InvoiceDate</th>\n",
              "      <th>UnitPrice</th>\n",
              "      <th>CustomerID</th>\n",
              "      <th>Country</th>\n",
              "    </tr>\n",
              "  </thead>\n",
              "  <tbody>\n",
              "    <tr>\n",
              "      <th>0</th>\n",
              "      <td>536365</td>\n",
              "      <td>85123A</td>\n",
              "      <td>WHITE HANGING HEART T-LIGHT HOLDER</td>\n",
              "      <td>6</td>\n",
              "      <td>2010-12-01 08:26:00</td>\n",
              "      <td>2.55</td>\n",
              "      <td>17850.0</td>\n",
              "      <td>United Kingdom</td>\n",
              "    </tr>\n",
              "    <tr>\n",
              "      <th>1</th>\n",
              "      <td>536365</td>\n",
              "      <td>71053</td>\n",
              "      <td>WHITE METAL LANTERN</td>\n",
              "      <td>6</td>\n",
              "      <td>2010-12-01 08:26:00</td>\n",
              "      <td>3.39</td>\n",
              "      <td>17850.0</td>\n",
              "      <td>United Kingdom</td>\n",
              "    </tr>\n",
              "    <tr>\n",
              "      <th>2</th>\n",
              "      <td>536365</td>\n",
              "      <td>84406B</td>\n",
              "      <td>CREAM CUPID HEARTS COAT HANGER</td>\n",
              "      <td>8</td>\n",
              "      <td>2010-12-01 08:26:00</td>\n",
              "      <td>2.75</td>\n",
              "      <td>17850.0</td>\n",
              "      <td>United Kingdom</td>\n",
              "    </tr>\n",
              "    <tr>\n",
              "      <th>3</th>\n",
              "      <td>536365</td>\n",
              "      <td>84029G</td>\n",
              "      <td>KNITTED UNION FLAG HOT WATER BOTTLE</td>\n",
              "      <td>6</td>\n",
              "      <td>2010-12-01 08:26:00</td>\n",
              "      <td>3.39</td>\n",
              "      <td>17850.0</td>\n",
              "      <td>United Kingdom</td>\n",
              "    </tr>\n",
              "    <tr>\n",
              "      <th>4</th>\n",
              "      <td>536365</td>\n",
              "      <td>84029E</td>\n",
              "      <td>RED WOOLLY HOTTIE WHITE HEART.</td>\n",
              "      <td>6</td>\n",
              "      <td>2010-12-01 08:26:00</td>\n",
              "      <td>3.39</td>\n",
              "      <td>17850.0</td>\n",
              "      <td>United Kingdom</td>\n",
              "    </tr>\n",
              "  </tbody>\n",
              "</table>\n",
              "</div>"
            ],
            "text/plain": [
              "  InvoiceNo StockCode                          Description  Quantity  \\\n",
              "0    536365    85123A   WHITE HANGING HEART T-LIGHT HOLDER         6   \n",
              "1    536365     71053                  WHITE METAL LANTERN         6   \n",
              "2    536365    84406B       CREAM CUPID HEARTS COAT HANGER         8   \n",
              "3    536365    84029G  KNITTED UNION FLAG HOT WATER BOTTLE         6   \n",
              "4    536365    84029E       RED WOOLLY HOTTIE WHITE HEART.         6   \n",
              "\n",
              "          InvoiceDate  UnitPrice  CustomerID         Country  \n",
              "0 2010-12-01 08:26:00       2.55     17850.0  United Kingdom  \n",
              "1 2010-12-01 08:26:00       3.39     17850.0  United Kingdom  \n",
              "2 2010-12-01 08:26:00       2.75     17850.0  United Kingdom  \n",
              "3 2010-12-01 08:26:00       3.39     17850.0  United Kingdom  \n",
              "4 2010-12-01 08:26:00       3.39     17850.0  United Kingdom  "
            ]
          },
          "execution_count": 16,
          "metadata": {},
          "output_type": "execute_result"
        }
      ],
      "source": [
        "df.head()"
      ]
    },
    {
      "cell_type": "markdown",
      "metadata": {
        "id": "YW4l-93MTMX9"
      },
      "source": [
        "### - Excluding Incomplete Month"
      ]
    },
    {
      "cell_type": "code",
      "execution_count": 17,
      "metadata": {
        "colab": {
          "base_uri": "https://localhost:8080/"
        },
        "id": "E5N2AaSvTQV3",
        "outputId": "6fb74133-5b8b-47fd-f42f-2c7278cecfe5"
      },
      "outputs": [
        {
          "name": "stdout",
          "output_type": "stream",
          "text": [
            "Date Range: 2010-12-01 08:26:00 ~ 2011-12-09 12:50:00\n"
          ]
        }
      ],
      "source": [
        "print('Date Range: %s ~ %s' % (df['InvoiceDate'].min(), df['InvoiceDate'].max()))"
      ]
    },
    {
      "cell_type": "code",
      "execution_count": 18,
      "metadata": {
        "colab": {
          "base_uri": "https://localhost:8080/"
        },
        "id": "xkddkJoxTYzo",
        "outputId": "54c2e908-a857-42fd-cf41-0203dda0ec62"
      },
      "outputs": [
        {
          "data": {
            "text/plain": [
              "(17304, 8)"
            ]
          },
          "execution_count": 18,
          "metadata": {},
          "output_type": "execute_result"
        }
      ],
      "source": [
        "df.loc[df['InvoiceDate'] >= '2011-12-01'].shape"
      ]
    },
    {
      "cell_type": "code",
      "execution_count": 19,
      "metadata": {
        "colab": {
          "base_uri": "https://localhost:8080/"
        },
        "id": "fHZ2tOtFTbSY",
        "outputId": "e53cac7f-1c74-430f-bcd2-87311dbd9077"
      },
      "outputs": [
        {
          "data": {
            "text/plain": [
              "(397924, 8)"
            ]
          },
          "execution_count": 19,
          "metadata": {},
          "output_type": "execute_result"
        }
      ],
      "source": [
        "df.shape"
      ]
    },
    {
      "cell_type": "code",
      "execution_count": 20,
      "metadata": {
        "id": "yjwloTNmTd4o"
      },
      "outputs": [],
      "source": [
        "df = df.loc[df['InvoiceDate'] < '2011-12-01']"
      ]
    },
    {
      "cell_type": "code",
      "execution_count": 21,
      "metadata": {
        "colab": {
          "base_uri": "https://localhost:8080/"
        },
        "id": "2_R7DXknTf-Y",
        "outputId": "85527eb0-6f12-4862-cba9-1c789d3d7ab2"
      },
      "outputs": [
        {
          "data": {
            "text/plain": [
              "(380620, 8)"
            ]
          },
          "execution_count": 21,
          "metadata": {},
          "output_type": "execute_result"
        }
      ],
      "source": [
        "df.shape"
      ]
    },
    {
      "cell_type": "markdown",
      "metadata": {
        "id": "2J4IpQ5jTiVY"
      },
      "source": [
        "### - Total Sales"
      ]
    },
    {
      "cell_type": "code",
      "execution_count": 22,
      "metadata": {
        "id": "x2Y5dPJITmif"
      },
      "outputs": [],
      "source": [
        "df['Sales'] = df['Quantity'] * df['UnitPrice']"
      ]
    },
    {
      "cell_type": "code",
      "execution_count": 23,
      "metadata": {
        "colab": {
          "base_uri": "https://localhost:8080/",
          "height": 293
        },
        "id": "fGRJaPs6ToRH",
        "outputId": "4c391b40-be5f-4a2a-aecc-9865e8851aa5"
      },
      "outputs": [
        {
          "data": {
            "text/html": [
              "<div>\n",
              "<style scoped>\n",
              "    .dataframe tbody tr th:only-of-type {\n",
              "        vertical-align: middle;\n",
              "    }\n",
              "\n",
              "    .dataframe tbody tr th {\n",
              "        vertical-align: top;\n",
              "    }\n",
              "\n",
              "    .dataframe thead th {\n",
              "        text-align: right;\n",
              "    }\n",
              "</style>\n",
              "<table border=\"1\" class=\"dataframe\">\n",
              "  <thead>\n",
              "    <tr style=\"text-align: right;\">\n",
              "      <th></th>\n",
              "      <th>InvoiceNo</th>\n",
              "      <th>StockCode</th>\n",
              "      <th>Description</th>\n",
              "      <th>Quantity</th>\n",
              "      <th>InvoiceDate</th>\n",
              "      <th>UnitPrice</th>\n",
              "      <th>CustomerID</th>\n",
              "      <th>Country</th>\n",
              "      <th>Sales</th>\n",
              "    </tr>\n",
              "  </thead>\n",
              "  <tbody>\n",
              "    <tr>\n",
              "      <th>0</th>\n",
              "      <td>536365</td>\n",
              "      <td>85123A</td>\n",
              "      <td>WHITE HANGING HEART T-LIGHT HOLDER</td>\n",
              "      <td>6</td>\n",
              "      <td>2010-12-01 08:26:00</td>\n",
              "      <td>2.55</td>\n",
              "      <td>17850.0</td>\n",
              "      <td>United Kingdom</td>\n",
              "      <td>15.30</td>\n",
              "    </tr>\n",
              "    <tr>\n",
              "      <th>1</th>\n",
              "      <td>536365</td>\n",
              "      <td>71053</td>\n",
              "      <td>WHITE METAL LANTERN</td>\n",
              "      <td>6</td>\n",
              "      <td>2010-12-01 08:26:00</td>\n",
              "      <td>3.39</td>\n",
              "      <td>17850.0</td>\n",
              "      <td>United Kingdom</td>\n",
              "      <td>20.34</td>\n",
              "    </tr>\n",
              "    <tr>\n",
              "      <th>2</th>\n",
              "      <td>536365</td>\n",
              "      <td>84406B</td>\n",
              "      <td>CREAM CUPID HEARTS COAT HANGER</td>\n",
              "      <td>8</td>\n",
              "      <td>2010-12-01 08:26:00</td>\n",
              "      <td>2.75</td>\n",
              "      <td>17850.0</td>\n",
              "      <td>United Kingdom</td>\n",
              "      <td>22.00</td>\n",
              "    </tr>\n",
              "    <tr>\n",
              "      <th>3</th>\n",
              "      <td>536365</td>\n",
              "      <td>84029G</td>\n",
              "      <td>KNITTED UNION FLAG HOT WATER BOTTLE</td>\n",
              "      <td>6</td>\n",
              "      <td>2010-12-01 08:26:00</td>\n",
              "      <td>3.39</td>\n",
              "      <td>17850.0</td>\n",
              "      <td>United Kingdom</td>\n",
              "      <td>20.34</td>\n",
              "    </tr>\n",
              "    <tr>\n",
              "      <th>4</th>\n",
              "      <td>536365</td>\n",
              "      <td>84029E</td>\n",
              "      <td>RED WOOLLY HOTTIE WHITE HEART.</td>\n",
              "      <td>6</td>\n",
              "      <td>2010-12-01 08:26:00</td>\n",
              "      <td>3.39</td>\n",
              "      <td>17850.0</td>\n",
              "      <td>United Kingdom</td>\n",
              "      <td>20.34</td>\n",
              "    </tr>\n",
              "  </tbody>\n",
              "</table>\n",
              "</div>"
            ],
            "text/plain": [
              "  InvoiceNo StockCode                          Description  Quantity  \\\n",
              "0    536365    85123A   WHITE HANGING HEART T-LIGHT HOLDER         6   \n",
              "1    536365     71053                  WHITE METAL LANTERN         6   \n",
              "2    536365    84406B       CREAM CUPID HEARTS COAT HANGER         8   \n",
              "3    536365    84029G  KNITTED UNION FLAG HOT WATER BOTTLE         6   \n",
              "4    536365    84029E       RED WOOLLY HOTTIE WHITE HEART.         6   \n",
              "\n",
              "          InvoiceDate  UnitPrice  CustomerID         Country  Sales  \n",
              "0 2010-12-01 08:26:00       2.55     17850.0  United Kingdom  15.30  \n",
              "1 2010-12-01 08:26:00       3.39     17850.0  United Kingdom  20.34  \n",
              "2 2010-12-01 08:26:00       2.75     17850.0  United Kingdom  22.00  \n",
              "3 2010-12-01 08:26:00       3.39     17850.0  United Kingdom  20.34  \n",
              "4 2010-12-01 08:26:00       3.39     17850.0  United Kingdom  20.34  "
            ]
          },
          "execution_count": 23,
          "metadata": {},
          "output_type": "execute_result"
        }
      ],
      "source": [
        "df.head()"
      ]
    },
    {
      "cell_type": "markdown",
      "metadata": {
        "id": "Smjl2y-1Ty_3"
      },
      "source": [
        "### - Per Customer Data"
      ]
    },
    {
      "cell_type": "code",
      "execution_count": 24,
      "metadata": {
        "colab": {
          "base_uri": "https://localhost:8080/",
          "height": 551
        },
        "id": "1z_eC_UPUNYf",
        "outputId": "b1482966-d738-4aed-daca-e0c4711b9125"
      },
      "outputs": [
        {
          "name": "stderr",
          "output_type": "stream",
          "text": [
            "C:\\Users\\ADMIN\\AppData\\Local\\Temp\\ipykernel_15644\\2790393788.py:1: FutureWarning: The provided callable <built-in function sum> is currently using SeriesGroupBy.sum. In a future version of pandas, the provided callable will be used directly. To keep current behavior pass the string \"sum\" instead.\n",
            "  customer_df = df.groupby('CustomerID').agg({\n"
          ]
        },
        {
          "data": {
            "text/html": [
              "<div>\n",
              "<style scoped>\n",
              "    .dataframe tbody tr th:only-of-type {\n",
              "        vertical-align: middle;\n",
              "    }\n",
              "\n",
              "    .dataframe tbody tr th {\n",
              "        vertical-align: top;\n",
              "    }\n",
              "\n",
              "    .dataframe thead th {\n",
              "        text-align: right;\n",
              "    }\n",
              "</style>\n",
              "<table border=\"1\" class=\"dataframe\">\n",
              "  <thead>\n",
              "    <tr style=\"text-align: right;\">\n",
              "      <th></th>\n",
              "      <th>TotalSales</th>\n",
              "      <th>OrderCount</th>\n",
              "      <th>AvgOrderValue</th>\n",
              "    </tr>\n",
              "    <tr>\n",
              "      <th>CustomerID</th>\n",
              "      <th></th>\n",
              "      <th></th>\n",
              "      <th></th>\n",
              "    </tr>\n",
              "  </thead>\n",
              "  <tbody>\n",
              "    <tr>\n",
              "      <th>12346.0</th>\n",
              "      <td>77183.60</td>\n",
              "      <td>1</td>\n",
              "      <td>77183.600000</td>\n",
              "    </tr>\n",
              "    <tr>\n",
              "      <th>12347.0</th>\n",
              "      <td>4085.18</td>\n",
              "      <td>6</td>\n",
              "      <td>680.863333</td>\n",
              "    </tr>\n",
              "    <tr>\n",
              "      <th>12348.0</th>\n",
              "      <td>1797.24</td>\n",
              "      <td>4</td>\n",
              "      <td>449.310000</td>\n",
              "    </tr>\n",
              "    <tr>\n",
              "      <th>12349.0</th>\n",
              "      <td>1757.55</td>\n",
              "      <td>1</td>\n",
              "      <td>1757.550000</td>\n",
              "    </tr>\n",
              "    <tr>\n",
              "      <th>12350.0</th>\n",
              "      <td>334.40</td>\n",
              "      <td>1</td>\n",
              "      <td>334.400000</td>\n",
              "    </tr>\n",
              "    <tr>\n",
              "      <th>12352.0</th>\n",
              "      <td>2506.04</td>\n",
              "      <td>8</td>\n",
              "      <td>313.255000</td>\n",
              "    </tr>\n",
              "    <tr>\n",
              "      <th>12353.0</th>\n",
              "      <td>89.00</td>\n",
              "      <td>1</td>\n",
              "      <td>89.000000</td>\n",
              "    </tr>\n",
              "    <tr>\n",
              "      <th>12354.0</th>\n",
              "      <td>1079.40</td>\n",
              "      <td>1</td>\n",
              "      <td>1079.400000</td>\n",
              "    </tr>\n",
              "    <tr>\n",
              "      <th>12355.0</th>\n",
              "      <td>459.40</td>\n",
              "      <td>1</td>\n",
              "      <td>459.400000</td>\n",
              "    </tr>\n",
              "    <tr>\n",
              "      <th>12356.0</th>\n",
              "      <td>2811.43</td>\n",
              "      <td>3</td>\n",
              "      <td>937.143333</td>\n",
              "    </tr>\n",
              "    <tr>\n",
              "      <th>12357.0</th>\n",
              "      <td>6207.67</td>\n",
              "      <td>1</td>\n",
              "      <td>6207.670000</td>\n",
              "    </tr>\n",
              "    <tr>\n",
              "      <th>12358.0</th>\n",
              "      <td>484.86</td>\n",
              "      <td>1</td>\n",
              "      <td>484.860000</td>\n",
              "    </tr>\n",
              "    <tr>\n",
              "      <th>12359.0</th>\n",
              "      <td>6372.58</td>\n",
              "      <td>4</td>\n",
              "      <td>1593.145000</td>\n",
              "    </tr>\n",
              "    <tr>\n",
              "      <th>12360.0</th>\n",
              "      <td>2662.06</td>\n",
              "      <td>3</td>\n",
              "      <td>887.353333</td>\n",
              "    </tr>\n",
              "    <tr>\n",
              "      <th>12361.0</th>\n",
              "      <td>189.90</td>\n",
              "      <td>1</td>\n",
              "      <td>189.900000</td>\n",
              "    </tr>\n",
              "  </tbody>\n",
              "</table>\n",
              "</div>"
            ],
            "text/plain": [
              "            TotalSales  OrderCount  AvgOrderValue\n",
              "CustomerID                                       \n",
              "12346.0       77183.60           1   77183.600000\n",
              "12347.0        4085.18           6     680.863333\n",
              "12348.0        1797.24           4     449.310000\n",
              "12349.0        1757.55           1    1757.550000\n",
              "12350.0         334.40           1     334.400000\n",
              "12352.0        2506.04           8     313.255000\n",
              "12353.0          89.00           1      89.000000\n",
              "12354.0        1079.40           1    1079.400000\n",
              "12355.0         459.40           1     459.400000\n",
              "12356.0        2811.43           3     937.143333\n",
              "12357.0        6207.67           1    6207.670000\n",
              "12358.0         484.86           1     484.860000\n",
              "12359.0        6372.58           4    1593.145000\n",
              "12360.0        2662.06           3     887.353333\n",
              "12361.0         189.90           1     189.900000"
            ]
          },
          "execution_count": 24,
          "metadata": {},
          "output_type": "execute_result"
        }
      ],
      "source": [
        "customer_df = df.groupby('CustomerID').agg({\n",
        "    'Sales': sum,\n",
        "    'InvoiceNo': lambda x: x.nunique()\n",
        "})\n",
        "\n",
        "customer_df.columns = ['TotalSales', 'OrderCount']\n",
        "customer_df['AvgOrderValue'] = customer_df['TotalSales']/customer_df['OrderCount']\n",
        "customer_df.head(15)"
      ]
    },
    {
      "cell_type": "code",
      "execution_count": 25,
      "metadata": {
        "colab": {
          "base_uri": "https://localhost:8080/",
          "height": 300
        },
        "id": "EWk7Ock1Vgr-",
        "outputId": "7133cf70-1e44-49b9-c0e2-346748c99d56"
      },
      "outputs": [
        {
          "data": {
            "text/html": [
              "<div>\n",
              "<style scoped>\n",
              "    .dataframe tbody tr th:only-of-type {\n",
              "        vertical-align: middle;\n",
              "    }\n",
              "\n",
              "    .dataframe tbody tr th {\n",
              "        vertical-align: top;\n",
              "    }\n",
              "\n",
              "    .dataframe thead th {\n",
              "        text-align: right;\n",
              "    }\n",
              "</style>\n",
              "<table border=\"1\" class=\"dataframe\">\n",
              "  <thead>\n",
              "    <tr style=\"text-align: right;\">\n",
              "      <th></th>\n",
              "      <th>TotalSales</th>\n",
              "      <th>OrderCount</th>\n",
              "      <th>AvgOrderValue</th>\n",
              "    </tr>\n",
              "  </thead>\n",
              "  <tbody>\n",
              "    <tr>\n",
              "      <th>count</th>\n",
              "      <td>4298.000000</td>\n",
              "      <td>4298.000000</td>\n",
              "      <td>4298.000000</td>\n",
              "    </tr>\n",
              "    <tr>\n",
              "      <th>mean</th>\n",
              "      <td>1952.818779</td>\n",
              "      <td>4.131689</td>\n",
              "      <td>400.255621</td>\n",
              "    </tr>\n",
              "    <tr>\n",
              "      <th>std</th>\n",
              "      <td>8354.913254</td>\n",
              "      <td>7.420253</td>\n",
              "      <td>1271.187289</td>\n",
              "    </tr>\n",
              "    <tr>\n",
              "      <th>min</th>\n",
              "      <td>0.000000</td>\n",
              "      <td>1.000000</td>\n",
              "      <td>0.000000</td>\n",
              "    </tr>\n",
              "    <tr>\n",
              "      <th>25%</th>\n",
              "      <td>304.305000</td>\n",
              "      <td>1.000000</td>\n",
              "      <td>178.602500</td>\n",
              "    </tr>\n",
              "    <tr>\n",
              "      <th>50%</th>\n",
              "      <td>657.265000</td>\n",
              "      <td>2.000000</td>\n",
              "      <td>295.033958</td>\n",
              "    </tr>\n",
              "    <tr>\n",
              "      <th>75%</th>\n",
              "      <td>1599.515000</td>\n",
              "      <td>4.000000</td>\n",
              "      <td>431.594250</td>\n",
              "    </tr>\n",
              "    <tr>\n",
              "      <th>max</th>\n",
              "      <td>268478.000000</td>\n",
              "      <td>201.000000</td>\n",
              "      <td>77183.600000</td>\n",
              "    </tr>\n",
              "  </tbody>\n",
              "</table>\n",
              "</div>"
            ],
            "text/plain": [
              "          TotalSales   OrderCount  AvgOrderValue\n",
              "count    4298.000000  4298.000000    4298.000000\n",
              "mean     1952.818779     4.131689     400.255621\n",
              "std      8354.913254     7.420253    1271.187289\n",
              "min         0.000000     1.000000       0.000000\n",
              "25%       304.305000     1.000000     178.602500\n",
              "50%       657.265000     2.000000     295.033958\n",
              "75%      1599.515000     4.000000     431.594250\n",
              "max    268478.000000   201.000000   77183.600000"
            ]
          },
          "execution_count": 25,
          "metadata": {},
          "output_type": "execute_result"
        }
      ],
      "source": [
        "customer_df.describe()"
      ]
    },
    {
      "cell_type": "code",
      "execution_count": 26,
      "metadata": {
        "id": "LyClf94BVjuA"
      },
      "outputs": [],
      "source": [
        "rank_df = customer_df.rank(method='first')"
      ]
    },
    {
      "cell_type": "code",
      "execution_count": 27,
      "metadata": {
        "colab": {
          "base_uri": "https://localhost:8080/",
          "height": 551
        },
        "id": "0xx8gnqnVmEo",
        "outputId": "df7b93f4-404d-46f3-92f7-7c0e68415ac6"
      },
      "outputs": [
        {
          "data": {
            "text/html": [
              "<div>\n",
              "<style scoped>\n",
              "    .dataframe tbody tr th:only-of-type {\n",
              "        vertical-align: middle;\n",
              "    }\n",
              "\n",
              "    .dataframe tbody tr th {\n",
              "        vertical-align: top;\n",
              "    }\n",
              "\n",
              "    .dataframe thead th {\n",
              "        text-align: right;\n",
              "    }\n",
              "</style>\n",
              "<table border=\"1\" class=\"dataframe\">\n",
              "  <thead>\n",
              "    <tr style=\"text-align: right;\">\n",
              "      <th></th>\n",
              "      <th>TotalSales</th>\n",
              "      <th>OrderCount</th>\n",
              "      <th>AvgOrderValue</th>\n",
              "    </tr>\n",
              "    <tr>\n",
              "      <th>CustomerID</th>\n",
              "      <th></th>\n",
              "      <th></th>\n",
              "      <th></th>\n",
              "    </tr>\n",
              "  </thead>\n",
              "  <tbody>\n",
              "    <tr>\n",
              "      <th>12346.0</th>\n",
              "      <td>4290.0</td>\n",
              "      <td>1.0</td>\n",
              "      <td>4298.0</td>\n",
              "    </tr>\n",
              "    <tr>\n",
              "      <th>12347.0</th>\n",
              "      <td>3958.0</td>\n",
              "      <td>3470.0</td>\n",
              "      <td>3888.0</td>\n",
              "    </tr>\n",
              "    <tr>\n",
              "      <th>12348.0</th>\n",
              "      <td>3350.0</td>\n",
              "      <td>2861.0</td>\n",
              "      <td>3303.0</td>\n",
              "    </tr>\n",
              "    <tr>\n",
              "      <th>12349.0</th>\n",
              "      <td>3321.0</td>\n",
              "      <td>2.0</td>\n",
              "      <td>4238.0</td>\n",
              "    </tr>\n",
              "    <tr>\n",
              "      <th>12350.0</th>\n",
              "      <td>1241.0</td>\n",
              "      <td>3.0</td>\n",
              "      <td>2561.0</td>\n",
              "    </tr>\n",
              "    <tr>\n",
              "      <th>12352.0</th>\n",
              "      <td>3630.0</td>\n",
              "      <td>3774.0</td>\n",
              "      <td>2360.0</td>\n",
              "    </tr>\n",
              "    <tr>\n",
              "      <th>12353.0</th>\n",
              "      <td>119.0</td>\n",
              "      <td>4.0</td>\n",
              "      <td>201.0</td>\n",
              "    </tr>\n",
              "    <tr>\n",
              "      <th>12354.0</th>\n",
              "      <td>2781.0</td>\n",
              "      <td>5.0</td>\n",
              "      <td>4151.0</td>\n",
              "    </tr>\n",
              "    <tr>\n",
              "      <th>12355.0</th>\n",
              "      <td>1670.0</td>\n",
              "      <td>6.0</td>\n",
              "      <td>3354.0</td>\n",
              "    </tr>\n",
              "    <tr>\n",
              "      <th>12356.0</th>\n",
              "      <td>3724.0</td>\n",
              "      <td>2346.0</td>\n",
              "      <td>4082.0</td>\n",
              "    </tr>\n",
              "    <tr>\n",
              "      <th>12357.0</th>\n",
              "      <td>4111.0</td>\n",
              "      <td>7.0</td>\n",
              "      <td>4295.0</td>\n",
              "    </tr>\n",
              "    <tr>\n",
              "      <th>12358.0</th>\n",
              "      <td>1738.0</td>\n",
              "      <td>8.0</td>\n",
              "      <td>3447.0</td>\n",
              "    </tr>\n",
              "    <tr>\n",
              "      <th>12359.0</th>\n",
              "      <td>4117.0</td>\n",
              "      <td>2862.0</td>\n",
              "      <td>4225.0</td>\n",
              "    </tr>\n",
              "    <tr>\n",
              "      <th>12360.0</th>\n",
              "      <td>3680.0</td>\n",
              "      <td>2347.0</td>\n",
              "      <td>4057.0</td>\n",
              "    </tr>\n",
              "    <tr>\n",
              "      <th>12361.0</th>\n",
              "      <td>607.0</td>\n",
              "      <td>9.0</td>\n",
              "      <td>1186.0</td>\n",
              "    </tr>\n",
              "  </tbody>\n",
              "</table>\n",
              "</div>"
            ],
            "text/plain": [
              "            TotalSales  OrderCount  AvgOrderValue\n",
              "CustomerID                                       \n",
              "12346.0         4290.0         1.0         4298.0\n",
              "12347.0         3958.0      3470.0         3888.0\n",
              "12348.0         3350.0      2861.0         3303.0\n",
              "12349.0         3321.0         2.0         4238.0\n",
              "12350.0         1241.0         3.0         2561.0\n",
              "12352.0         3630.0      3774.0         2360.0\n",
              "12353.0          119.0         4.0          201.0\n",
              "12354.0         2781.0         5.0         4151.0\n",
              "12355.0         1670.0         6.0         3354.0\n",
              "12356.0         3724.0      2346.0         4082.0\n",
              "12357.0         4111.0         7.0         4295.0\n",
              "12358.0         1738.0         8.0         3447.0\n",
              "12359.0         4117.0      2862.0         4225.0\n",
              "12360.0         3680.0      2347.0         4057.0\n",
              "12361.0          607.0         9.0         1186.0"
            ]
          },
          "execution_count": 27,
          "metadata": {},
          "output_type": "execute_result"
        }
      ],
      "source": [
        "rank_df.head(15)"
      ]
    },
    {
      "cell_type": "code",
      "execution_count": 28,
      "metadata": {
        "colab": {
          "base_uri": "https://localhost:8080/",
          "height": 300
        },
        "id": "hW2ADygVVqKp",
        "outputId": "a2b14aa4-5eb9-4ae4-d952-00308b881e49"
      },
      "outputs": [
        {
          "data": {
            "text/html": [
              "<div>\n",
              "<style scoped>\n",
              "    .dataframe tbody tr th:only-of-type {\n",
              "        vertical-align: middle;\n",
              "    }\n",
              "\n",
              "    .dataframe tbody tr th {\n",
              "        vertical-align: top;\n",
              "    }\n",
              "\n",
              "    .dataframe thead th {\n",
              "        text-align: right;\n",
              "    }\n",
              "</style>\n",
              "<table border=\"1\" class=\"dataframe\">\n",
              "  <thead>\n",
              "    <tr style=\"text-align: right;\">\n",
              "      <th></th>\n",
              "      <th>TotalSales</th>\n",
              "      <th>OrderCount</th>\n",
              "      <th>AvgOrderValue</th>\n",
              "    </tr>\n",
              "  </thead>\n",
              "  <tbody>\n",
              "    <tr>\n",
              "      <th>count</th>\n",
              "      <td>4298.000000</td>\n",
              "      <td>4298.000000</td>\n",
              "      <td>4298.000000</td>\n",
              "    </tr>\n",
              "    <tr>\n",
              "      <th>mean</th>\n",
              "      <td>2149.500000</td>\n",
              "      <td>2149.500000</td>\n",
              "      <td>2149.500000</td>\n",
              "    </tr>\n",
              "    <tr>\n",
              "      <th>std</th>\n",
              "      <td>1240.870058</td>\n",
              "      <td>1240.870058</td>\n",
              "      <td>1240.870058</td>\n",
              "    </tr>\n",
              "    <tr>\n",
              "      <th>min</th>\n",
              "      <td>1.000000</td>\n",
              "      <td>1.000000</td>\n",
              "      <td>1.000000</td>\n",
              "    </tr>\n",
              "    <tr>\n",
              "      <th>25%</th>\n",
              "      <td>1075.250000</td>\n",
              "      <td>1075.250000</td>\n",
              "      <td>1075.250000</td>\n",
              "    </tr>\n",
              "    <tr>\n",
              "      <th>50%</th>\n",
              "      <td>2149.500000</td>\n",
              "      <td>2149.500000</td>\n",
              "      <td>2149.500000</td>\n",
              "    </tr>\n",
              "    <tr>\n",
              "      <th>75%</th>\n",
              "      <td>3223.750000</td>\n",
              "      <td>3223.750000</td>\n",
              "      <td>3223.750000</td>\n",
              "    </tr>\n",
              "    <tr>\n",
              "      <th>max</th>\n",
              "      <td>4298.000000</td>\n",
              "      <td>4298.000000</td>\n",
              "      <td>4298.000000</td>\n",
              "    </tr>\n",
              "  </tbody>\n",
              "</table>\n",
              "</div>"
            ],
            "text/plain": [
              "        TotalSales   OrderCount  AvgOrderValue\n",
              "count  4298.000000  4298.000000    4298.000000\n",
              "mean   2149.500000  2149.500000    2149.500000\n",
              "std    1240.870058  1240.870058    1240.870058\n",
              "min       1.000000     1.000000       1.000000\n",
              "25%    1075.250000  1075.250000    1075.250000\n",
              "50%    2149.500000  2149.500000    2149.500000\n",
              "75%    3223.750000  3223.750000    3223.750000\n",
              "max    4298.000000  4298.000000    4298.000000"
            ]
          },
          "execution_count": 28,
          "metadata": {},
          "output_type": "execute_result"
        }
      ],
      "source": [
        "rank_df.describe()"
      ]
    },
    {
      "cell_type": "code",
      "execution_count": 29,
      "metadata": {
        "id": "aTlp7M8HVtQ3"
      },
      "outputs": [],
      "source": [
        "normalized_df = (rank_df - rank_df.mean()) / rank_df.std()"
      ]
    },
    {
      "cell_type": "code",
      "execution_count": 30,
      "metadata": {
        "colab": {
          "base_uri": "https://localhost:8080/",
          "height": 551
        },
        "id": "4vAYcbW9Vv_R",
        "outputId": "8f046543-e72a-4bf7-fcb9-b9a76e4d3921"
      },
      "outputs": [
        {
          "data": {
            "text/html": [
              "<div>\n",
              "<style scoped>\n",
              "    .dataframe tbody tr th:only-of-type {\n",
              "        vertical-align: middle;\n",
              "    }\n",
              "\n",
              "    .dataframe tbody tr th {\n",
              "        vertical-align: top;\n",
              "    }\n",
              "\n",
              "    .dataframe thead th {\n",
              "        text-align: right;\n",
              "    }\n",
              "</style>\n",
              "<table border=\"1\" class=\"dataframe\">\n",
              "  <thead>\n",
              "    <tr style=\"text-align: right;\">\n",
              "      <th></th>\n",
              "      <th>TotalSales</th>\n",
              "      <th>OrderCount</th>\n",
              "      <th>AvgOrderValue</th>\n",
              "    </tr>\n",
              "    <tr>\n",
              "      <th>CustomerID</th>\n",
              "      <th></th>\n",
              "      <th></th>\n",
              "      <th></th>\n",
              "    </tr>\n",
              "  </thead>\n",
              "  <tbody>\n",
              "    <tr>\n",
              "      <th>12346.0</th>\n",
              "      <td>1.724999</td>\n",
              "      <td>-1.731446</td>\n",
              "      <td>1.731446</td>\n",
              "    </tr>\n",
              "    <tr>\n",
              "      <th>12347.0</th>\n",
              "      <td>1.457445</td>\n",
              "      <td>1.064173</td>\n",
              "      <td>1.401033</td>\n",
              "    </tr>\n",
              "    <tr>\n",
              "      <th>12348.0</th>\n",
              "      <td>0.967466</td>\n",
              "      <td>0.573388</td>\n",
              "      <td>0.929590</td>\n",
              "    </tr>\n",
              "    <tr>\n",
              "      <th>12349.0</th>\n",
              "      <td>0.944096</td>\n",
              "      <td>-1.730641</td>\n",
              "      <td>1.683093</td>\n",
              "    </tr>\n",
              "    <tr>\n",
              "      <th>12350.0</th>\n",
              "      <td>-0.732148</td>\n",
              "      <td>-1.729835</td>\n",
              "      <td>0.331622</td>\n",
              "    </tr>\n",
              "    <tr>\n",
              "      <th>12352.0</th>\n",
              "      <td>1.193114</td>\n",
              "      <td>1.309162</td>\n",
              "      <td>0.169639</td>\n",
              "    </tr>\n",
              "    <tr>\n",
              "      <th>12353.0</th>\n",
              "      <td>-1.636352</td>\n",
              "      <td>-1.729029</td>\n",
              "      <td>-1.570269</td>\n",
              "    </tr>\n",
              "    <tr>\n",
              "      <th>12354.0</th>\n",
              "      <td>0.508917</td>\n",
              "      <td>-1.728223</td>\n",
              "      <td>1.612981</td>\n",
              "    </tr>\n",
              "    <tr>\n",
              "      <th>12355.0</th>\n",
              "      <td>-0.386422</td>\n",
              "      <td>-1.727417</td>\n",
              "      <td>0.970690</td>\n",
              "    </tr>\n",
              "    <tr>\n",
              "      <th>12356.0</th>\n",
              "      <td>1.268868</td>\n",
              "      <td>0.158357</td>\n",
              "      <td>1.557375</td>\n",
              "    </tr>\n",
              "    <tr>\n",
              "      <th>12357.0</th>\n",
              "      <td>1.580746</td>\n",
              "      <td>-1.726611</td>\n",
              "      <td>1.729029</td>\n",
              "    </tr>\n",
              "    <tr>\n",
              "      <th>12358.0</th>\n",
              "      <td>-0.331622</td>\n",
              "      <td>-1.725805</td>\n",
              "      <td>1.045637</td>\n",
              "    </tr>\n",
              "    <tr>\n",
              "      <th>12359.0</th>\n",
              "      <td>1.585581</td>\n",
              "      <td>0.574194</td>\n",
              "      <td>1.672617</td>\n",
              "    </tr>\n",
              "    <tr>\n",
              "      <th>12360.0</th>\n",
              "      <td>1.233409</td>\n",
              "      <td>0.159163</td>\n",
              "      <td>1.537228</td>\n",
              "    </tr>\n",
              "    <tr>\n",
              "      <th>12361.0</th>\n",
              "      <td>-1.243079</td>\n",
              "      <td>-1.724999</td>\n",
              "      <td>-0.776471</td>\n",
              "    </tr>\n",
              "  </tbody>\n",
              "</table>\n",
              "</div>"
            ],
            "text/plain": [
              "            TotalSales  OrderCount  AvgOrderValue\n",
              "CustomerID                                       \n",
              "12346.0       1.724999   -1.731446       1.731446\n",
              "12347.0       1.457445    1.064173       1.401033\n",
              "12348.0       0.967466    0.573388       0.929590\n",
              "12349.0       0.944096   -1.730641       1.683093\n",
              "12350.0      -0.732148   -1.729835       0.331622\n",
              "12352.0       1.193114    1.309162       0.169639\n",
              "12353.0      -1.636352   -1.729029      -1.570269\n",
              "12354.0       0.508917   -1.728223       1.612981\n",
              "12355.0      -0.386422   -1.727417       0.970690\n",
              "12356.0       1.268868    0.158357       1.557375\n",
              "12357.0       1.580746   -1.726611       1.729029\n",
              "12358.0      -0.331622   -1.725805       1.045637\n",
              "12359.0       1.585581    0.574194       1.672617\n",
              "12360.0       1.233409    0.159163       1.537228\n",
              "12361.0      -1.243079   -1.724999      -0.776471"
            ]
          },
          "execution_count": 30,
          "metadata": {},
          "output_type": "execute_result"
        }
      ],
      "source": [
        "normalized_df.head(15)"
      ]
    },
    {
      "cell_type": "code",
      "execution_count": 31,
      "metadata": {
        "colab": {
          "base_uri": "https://localhost:8080/",
          "height": 300
        },
        "id": "43ETzAdQXLF-",
        "outputId": "50aea669-eb62-46ea-84e9-f025c731cad1"
      },
      "outputs": [
        {
          "data": {
            "text/html": [
              "<div>\n",
              "<style scoped>\n",
              "    .dataframe tbody tr th:only-of-type {\n",
              "        vertical-align: middle;\n",
              "    }\n",
              "\n",
              "    .dataframe tbody tr th {\n",
              "        vertical-align: top;\n",
              "    }\n",
              "\n",
              "    .dataframe thead th {\n",
              "        text-align: right;\n",
              "    }\n",
              "</style>\n",
              "<table border=\"1\" class=\"dataframe\">\n",
              "  <thead>\n",
              "    <tr style=\"text-align: right;\">\n",
              "      <th></th>\n",
              "      <th>TotalSales</th>\n",
              "      <th>OrderCount</th>\n",
              "      <th>AvgOrderValue</th>\n",
              "    </tr>\n",
              "  </thead>\n",
              "  <tbody>\n",
              "    <tr>\n",
              "      <th>count</th>\n",
              "      <td>4298.000000</td>\n",
              "      <td>4298.000000</td>\n",
              "      <td>4.298000e+03</td>\n",
              "    </tr>\n",
              "    <tr>\n",
              "      <th>mean</th>\n",
              "      <td>0.000000</td>\n",
              "      <td>0.000000</td>\n",
              "      <td>-6.612776e-18</td>\n",
              "    </tr>\n",
              "    <tr>\n",
              "      <th>std</th>\n",
              "      <td>1.000000</td>\n",
              "      <td>1.000000</td>\n",
              "      <td>1.000000e+00</td>\n",
              "    </tr>\n",
              "    <tr>\n",
              "      <th>min</th>\n",
              "      <td>-1.731446</td>\n",
              "      <td>-1.731446</td>\n",
              "      <td>-1.731446e+00</td>\n",
              "    </tr>\n",
              "    <tr>\n",
              "      <th>25%</th>\n",
              "      <td>-0.865723</td>\n",
              "      <td>-0.865723</td>\n",
              "      <td>-8.657232e-01</td>\n",
              "    </tr>\n",
              "    <tr>\n",
              "      <th>50%</th>\n",
              "      <td>0.000000</td>\n",
              "      <td>0.000000</td>\n",
              "      <td>0.000000e+00</td>\n",
              "    </tr>\n",
              "    <tr>\n",
              "      <th>75%</th>\n",
              "      <td>0.865723</td>\n",
              "      <td>0.865723</td>\n",
              "      <td>8.657232e-01</td>\n",
              "    </tr>\n",
              "    <tr>\n",
              "      <th>max</th>\n",
              "      <td>1.731446</td>\n",
              "      <td>1.731446</td>\n",
              "      <td>1.731446e+00</td>\n",
              "    </tr>\n",
              "  </tbody>\n",
              "</table>\n",
              "</div>"
            ],
            "text/plain": [
              "        TotalSales   OrderCount  AvgOrderValue\n",
              "count  4298.000000  4298.000000   4.298000e+03\n",
              "mean      0.000000     0.000000  -6.612776e-18\n",
              "std       1.000000     1.000000   1.000000e+00\n",
              "min      -1.731446    -1.731446  -1.731446e+00\n",
              "25%      -0.865723    -0.865723  -8.657232e-01\n",
              "50%       0.000000     0.000000   0.000000e+00\n",
              "75%       0.865723     0.865723   8.657232e-01\n",
              "max       1.731446     1.731446   1.731446e+00"
            ]
          },
          "execution_count": 31,
          "metadata": {},
          "output_type": "execute_result"
        }
      ],
      "source": [
        "normalized_df.describe()"
      ]
    },
    {
      "cell_type": "markdown",
      "metadata": {
        "id": "uu8Th48UXOHv"
      },
      "source": [
        "#**3. Customer Segmentation via K-Means Clustering**"
      ]
    },
    {
      "cell_type": "code",
      "execution_count": 32,
      "metadata": {
        "id": "dRfWmRRYXU7T"
      },
      "outputs": [],
      "source": [
        "from sklearn.cluster import KMeans"
      ]
    },
    {
      "cell_type": "markdown",
      "metadata": {
        "id": "inbbTuZrcgbg"
      },
      "source": [
        "### - K-Means Clustering"
      ]
    },
    {
      "cell_type": "code",
      "execution_count": 33,
      "metadata": {
        "colab": {
          "base_uri": "https://localhost:8080/"
        },
        "id": "rkPZHu71crNY",
        "outputId": "9ca45919-5455-45a1-d2de-7c9175d872fc"
      },
      "outputs": [],
      "source": [
        "kmeans = KMeans(n_clusters=4, random_state=42).fit(normalized_df[['TotalSales', 'OrderCount', 'AvgOrderValue']])"
      ]
    },
    {
      "cell_type": "code",
      "execution_count": 34,
      "metadata": {
        "colab": {
          "base_uri": "https://localhost:8080/",
          "height": 75
        },
        "id": "XcS-D4Abct2o",
        "outputId": "adc19cfb-3222-4907-85c6-aafa1c9f640b"
      },
      "outputs": [
        {
          "data": {
            "text/html": [
              "<style>#sk-container-id-1 {\n",
              "  /* Definition of color scheme common for light and dark mode */\n",
              "  --sklearn-color-text: black;\n",
              "  --sklearn-color-line: gray;\n",
              "  /* Definition of color scheme for unfitted estimators */\n",
              "  --sklearn-color-unfitted-level-0: #fff5e6;\n",
              "  --sklearn-color-unfitted-level-1: #f6e4d2;\n",
              "  --sklearn-color-unfitted-level-2: #ffe0b3;\n",
              "  --sklearn-color-unfitted-level-3: chocolate;\n",
              "  /* Definition of color scheme for fitted estimators */\n",
              "  --sklearn-color-fitted-level-0: #f0f8ff;\n",
              "  --sklearn-color-fitted-level-1: #d4ebff;\n",
              "  --sklearn-color-fitted-level-2: #b3dbfd;\n",
              "  --sklearn-color-fitted-level-3: cornflowerblue;\n",
              "\n",
              "  /* Specific color for light theme */\n",
              "  --sklearn-color-text-on-default-background: var(--sg-text-color, var(--theme-code-foreground, var(--jp-content-font-color1, black)));\n",
              "  --sklearn-color-background: var(--sg-background-color, var(--theme-background, var(--jp-layout-color0, white)));\n",
              "  --sklearn-color-border-box: var(--sg-text-color, var(--theme-code-foreground, var(--jp-content-font-color1, black)));\n",
              "  --sklearn-color-icon: #696969;\n",
              "\n",
              "  @media (prefers-color-scheme: dark) {\n",
              "    /* Redefinition of color scheme for dark theme */\n",
              "    --sklearn-color-text-on-default-background: var(--sg-text-color, var(--theme-code-foreground, var(--jp-content-font-color1, white)));\n",
              "    --sklearn-color-background: var(--sg-background-color, var(--theme-background, var(--jp-layout-color0, #111)));\n",
              "    --sklearn-color-border-box: var(--sg-text-color, var(--theme-code-foreground, var(--jp-content-font-color1, white)));\n",
              "    --sklearn-color-icon: #878787;\n",
              "  }\n",
              "}\n",
              "\n",
              "#sk-container-id-1 {\n",
              "  color: var(--sklearn-color-text);\n",
              "}\n",
              "\n",
              "#sk-container-id-1 pre {\n",
              "  padding: 0;\n",
              "}\n",
              "\n",
              "#sk-container-id-1 input.sk-hidden--visually {\n",
              "  border: 0;\n",
              "  clip: rect(1px 1px 1px 1px);\n",
              "  clip: rect(1px, 1px, 1px, 1px);\n",
              "  height: 1px;\n",
              "  margin: -1px;\n",
              "  overflow: hidden;\n",
              "  padding: 0;\n",
              "  position: absolute;\n",
              "  width: 1px;\n",
              "}\n",
              "\n",
              "#sk-container-id-1 div.sk-dashed-wrapped {\n",
              "  border: 1px dashed var(--sklearn-color-line);\n",
              "  margin: 0 0.4em 0.5em 0.4em;\n",
              "  box-sizing: border-box;\n",
              "  padding-bottom: 0.4em;\n",
              "  background-color: var(--sklearn-color-background);\n",
              "}\n",
              "\n",
              "#sk-container-id-1 div.sk-container {\n",
              "  /* jupyter's `normalize.less` sets `[hidden] { display: none; }`\n",
              "     but bootstrap.min.css set `[hidden] { display: none !important; }`\n",
              "     so we also need the `!important` here to be able to override the\n",
              "     default hidden behavior on the sphinx rendered scikit-learn.org.\n",
              "     See: https://github.com/scikit-learn/scikit-learn/issues/21755 */\n",
              "  display: inline-block !important;\n",
              "  position: relative;\n",
              "}\n",
              "\n",
              "#sk-container-id-1 div.sk-text-repr-fallback {\n",
              "  display: none;\n",
              "}\n",
              "\n",
              "div.sk-parallel-item,\n",
              "div.sk-serial,\n",
              "div.sk-item {\n",
              "  /* draw centered vertical line to link estimators */\n",
              "  background-image: linear-gradient(var(--sklearn-color-text-on-default-background), var(--sklearn-color-text-on-default-background));\n",
              "  background-size: 2px 100%;\n",
              "  background-repeat: no-repeat;\n",
              "  background-position: center center;\n",
              "}\n",
              "\n",
              "/* Parallel-specific style estimator block */\n",
              "\n",
              "#sk-container-id-1 div.sk-parallel-item::after {\n",
              "  content: \"\";\n",
              "  width: 100%;\n",
              "  border-bottom: 2px solid var(--sklearn-color-text-on-default-background);\n",
              "  flex-grow: 1;\n",
              "}\n",
              "\n",
              "#sk-container-id-1 div.sk-parallel {\n",
              "  display: flex;\n",
              "  align-items: stretch;\n",
              "  justify-content: center;\n",
              "  background-color: var(--sklearn-color-background);\n",
              "  position: relative;\n",
              "}\n",
              "\n",
              "#sk-container-id-1 div.sk-parallel-item {\n",
              "  display: flex;\n",
              "  flex-direction: column;\n",
              "}\n",
              "\n",
              "#sk-container-id-1 div.sk-parallel-item:first-child::after {\n",
              "  align-self: flex-end;\n",
              "  width: 50%;\n",
              "}\n",
              "\n",
              "#sk-container-id-1 div.sk-parallel-item:last-child::after {\n",
              "  align-self: flex-start;\n",
              "  width: 50%;\n",
              "}\n",
              "\n",
              "#sk-container-id-1 div.sk-parallel-item:only-child::after {\n",
              "  width: 0;\n",
              "}\n",
              "\n",
              "/* Serial-specific style estimator block */\n",
              "\n",
              "#sk-container-id-1 div.sk-serial {\n",
              "  display: flex;\n",
              "  flex-direction: column;\n",
              "  align-items: center;\n",
              "  background-color: var(--sklearn-color-background);\n",
              "  padding-right: 1em;\n",
              "  padding-left: 1em;\n",
              "}\n",
              "\n",
              "\n",
              "/* Toggleable style: style used for estimator/Pipeline/ColumnTransformer box that is\n",
              "clickable and can be expanded/collapsed.\n",
              "- Pipeline and ColumnTransformer use this feature and define the default style\n",
              "- Estimators will overwrite some part of the style using the `sk-estimator` class\n",
              "*/\n",
              "\n",
              "/* Pipeline and ColumnTransformer style (default) */\n",
              "\n",
              "#sk-container-id-1 div.sk-toggleable {\n",
              "  /* Default theme specific background. It is overwritten whether we have a\n",
              "  specific estimator or a Pipeline/ColumnTransformer */\n",
              "  background-color: var(--sklearn-color-background);\n",
              "}\n",
              "\n",
              "/* Toggleable label */\n",
              "#sk-container-id-1 label.sk-toggleable__label {\n",
              "  cursor: pointer;\n",
              "  display: block;\n",
              "  width: 100%;\n",
              "  margin-bottom: 0;\n",
              "  padding: 0.5em;\n",
              "  box-sizing: border-box;\n",
              "  text-align: center;\n",
              "}\n",
              "\n",
              "#sk-container-id-1 label.sk-toggleable__label-arrow:before {\n",
              "  /* Arrow on the left of the label */\n",
              "  content: \"▸\";\n",
              "  float: left;\n",
              "  margin-right: 0.25em;\n",
              "  color: var(--sklearn-color-icon);\n",
              "}\n",
              "\n",
              "#sk-container-id-1 label.sk-toggleable__label-arrow:hover:before {\n",
              "  color: var(--sklearn-color-text);\n",
              "}\n",
              "\n",
              "/* Toggleable content - dropdown */\n",
              "\n",
              "#sk-container-id-1 div.sk-toggleable__content {\n",
              "  max-height: 0;\n",
              "  max-width: 0;\n",
              "  overflow: hidden;\n",
              "  text-align: left;\n",
              "  /* unfitted */\n",
              "  background-color: var(--sklearn-color-unfitted-level-0);\n",
              "}\n",
              "\n",
              "#sk-container-id-1 div.sk-toggleable__content.fitted {\n",
              "  /* fitted */\n",
              "  background-color: var(--sklearn-color-fitted-level-0);\n",
              "}\n",
              "\n",
              "#sk-container-id-1 div.sk-toggleable__content pre {\n",
              "  margin: 0.2em;\n",
              "  border-radius: 0.25em;\n",
              "  color: var(--sklearn-color-text);\n",
              "  /* unfitted */\n",
              "  background-color: var(--sklearn-color-unfitted-level-0);\n",
              "}\n",
              "\n",
              "#sk-container-id-1 div.sk-toggleable__content.fitted pre {\n",
              "  /* unfitted */\n",
              "  background-color: var(--sklearn-color-fitted-level-0);\n",
              "}\n",
              "\n",
              "#sk-container-id-1 input.sk-toggleable__control:checked~div.sk-toggleable__content {\n",
              "  /* Expand drop-down */\n",
              "  max-height: 200px;\n",
              "  max-width: 100%;\n",
              "  overflow: auto;\n",
              "}\n",
              "\n",
              "#sk-container-id-1 input.sk-toggleable__control:checked~label.sk-toggleable__label-arrow:before {\n",
              "  content: \"▾\";\n",
              "}\n",
              "\n",
              "/* Pipeline/ColumnTransformer-specific style */\n",
              "\n",
              "#sk-container-id-1 div.sk-label input.sk-toggleable__control:checked~label.sk-toggleable__label {\n",
              "  color: var(--sklearn-color-text);\n",
              "  background-color: var(--sklearn-color-unfitted-level-2);\n",
              "}\n",
              "\n",
              "#sk-container-id-1 div.sk-label.fitted input.sk-toggleable__control:checked~label.sk-toggleable__label {\n",
              "  background-color: var(--sklearn-color-fitted-level-2);\n",
              "}\n",
              "\n",
              "/* Estimator-specific style */\n",
              "\n",
              "/* Colorize estimator box */\n",
              "#sk-container-id-1 div.sk-estimator input.sk-toggleable__control:checked~label.sk-toggleable__label {\n",
              "  /* unfitted */\n",
              "  background-color: var(--sklearn-color-unfitted-level-2);\n",
              "}\n",
              "\n",
              "#sk-container-id-1 div.sk-estimator.fitted input.sk-toggleable__control:checked~label.sk-toggleable__label {\n",
              "  /* fitted */\n",
              "  background-color: var(--sklearn-color-fitted-level-2);\n",
              "}\n",
              "\n",
              "#sk-container-id-1 div.sk-label label.sk-toggleable__label,\n",
              "#sk-container-id-1 div.sk-label label {\n",
              "  /* The background is the default theme color */\n",
              "  color: var(--sklearn-color-text-on-default-background);\n",
              "}\n",
              "\n",
              "/* On hover, darken the color of the background */\n",
              "#sk-container-id-1 div.sk-label:hover label.sk-toggleable__label {\n",
              "  color: var(--sklearn-color-text);\n",
              "  background-color: var(--sklearn-color-unfitted-level-2);\n",
              "}\n",
              "\n",
              "/* Label box, darken color on hover, fitted */\n",
              "#sk-container-id-1 div.sk-label.fitted:hover label.sk-toggleable__label.fitted {\n",
              "  color: var(--sklearn-color-text);\n",
              "  background-color: var(--sklearn-color-fitted-level-2);\n",
              "}\n",
              "\n",
              "/* Estimator label */\n",
              "\n",
              "#sk-container-id-1 div.sk-label label {\n",
              "  font-family: monospace;\n",
              "  font-weight: bold;\n",
              "  display: inline-block;\n",
              "  line-height: 1.2em;\n",
              "}\n",
              "\n",
              "#sk-container-id-1 div.sk-label-container {\n",
              "  text-align: center;\n",
              "}\n",
              "\n",
              "/* Estimator-specific */\n",
              "#sk-container-id-1 div.sk-estimator {\n",
              "  font-family: monospace;\n",
              "  border: 1px dotted var(--sklearn-color-border-box);\n",
              "  border-radius: 0.25em;\n",
              "  box-sizing: border-box;\n",
              "  margin-bottom: 0.5em;\n",
              "  /* unfitted */\n",
              "  background-color: var(--sklearn-color-unfitted-level-0);\n",
              "}\n",
              "\n",
              "#sk-container-id-1 div.sk-estimator.fitted {\n",
              "  /* fitted */\n",
              "  background-color: var(--sklearn-color-fitted-level-0);\n",
              "}\n",
              "\n",
              "/* on hover */\n",
              "#sk-container-id-1 div.sk-estimator:hover {\n",
              "  /* unfitted */\n",
              "  background-color: var(--sklearn-color-unfitted-level-2);\n",
              "}\n",
              "\n",
              "#sk-container-id-1 div.sk-estimator.fitted:hover {\n",
              "  /* fitted */\n",
              "  background-color: var(--sklearn-color-fitted-level-2);\n",
              "}\n",
              "\n",
              "/* Specification for estimator info (e.g. \"i\" and \"?\") */\n",
              "\n",
              "/* Common style for \"i\" and \"?\" */\n",
              "\n",
              ".sk-estimator-doc-link,\n",
              "a:link.sk-estimator-doc-link,\n",
              "a:visited.sk-estimator-doc-link {\n",
              "  float: right;\n",
              "  font-size: smaller;\n",
              "  line-height: 1em;\n",
              "  font-family: monospace;\n",
              "  background-color: var(--sklearn-color-background);\n",
              "  border-radius: 1em;\n",
              "  height: 1em;\n",
              "  width: 1em;\n",
              "  text-decoration: none !important;\n",
              "  margin-left: 1ex;\n",
              "  /* unfitted */\n",
              "  border: var(--sklearn-color-unfitted-level-1) 1pt solid;\n",
              "  color: var(--sklearn-color-unfitted-level-1);\n",
              "}\n",
              "\n",
              ".sk-estimator-doc-link.fitted,\n",
              "a:link.sk-estimator-doc-link.fitted,\n",
              "a:visited.sk-estimator-doc-link.fitted {\n",
              "  /* fitted */\n",
              "  border: var(--sklearn-color-fitted-level-1) 1pt solid;\n",
              "  color: var(--sklearn-color-fitted-level-1);\n",
              "}\n",
              "\n",
              "/* On hover */\n",
              "div.sk-estimator:hover .sk-estimator-doc-link:hover,\n",
              ".sk-estimator-doc-link:hover,\n",
              "div.sk-label-container:hover .sk-estimator-doc-link:hover,\n",
              ".sk-estimator-doc-link:hover {\n",
              "  /* unfitted */\n",
              "  background-color: var(--sklearn-color-unfitted-level-3);\n",
              "  color: var(--sklearn-color-background);\n",
              "  text-decoration: none;\n",
              "}\n",
              "\n",
              "div.sk-estimator.fitted:hover .sk-estimator-doc-link.fitted:hover,\n",
              ".sk-estimator-doc-link.fitted:hover,\n",
              "div.sk-label-container:hover .sk-estimator-doc-link.fitted:hover,\n",
              ".sk-estimator-doc-link.fitted:hover {\n",
              "  /* fitted */\n",
              "  background-color: var(--sklearn-color-fitted-level-3);\n",
              "  color: var(--sklearn-color-background);\n",
              "  text-decoration: none;\n",
              "}\n",
              "\n",
              "/* Span, style for the box shown on hovering the info icon */\n",
              ".sk-estimator-doc-link span {\n",
              "  display: none;\n",
              "  z-index: 9999;\n",
              "  position: relative;\n",
              "  font-weight: normal;\n",
              "  right: .2ex;\n",
              "  padding: .5ex;\n",
              "  margin: .5ex;\n",
              "  width: min-content;\n",
              "  min-width: 20ex;\n",
              "  max-width: 50ex;\n",
              "  color: var(--sklearn-color-text);\n",
              "  box-shadow: 2pt 2pt 4pt #999;\n",
              "  /* unfitted */\n",
              "  background: var(--sklearn-color-unfitted-level-0);\n",
              "  border: .5pt solid var(--sklearn-color-unfitted-level-3);\n",
              "}\n",
              "\n",
              ".sk-estimator-doc-link.fitted span {\n",
              "  /* fitted */\n",
              "  background: var(--sklearn-color-fitted-level-0);\n",
              "  border: var(--sklearn-color-fitted-level-3);\n",
              "}\n",
              "\n",
              ".sk-estimator-doc-link:hover span {\n",
              "  display: block;\n",
              "}\n",
              "\n",
              "/* \"?\"-specific style due to the `<a>` HTML tag */\n",
              "\n",
              "#sk-container-id-1 a.estimator_doc_link {\n",
              "  float: right;\n",
              "  font-size: 1rem;\n",
              "  line-height: 1em;\n",
              "  font-family: monospace;\n",
              "  background-color: var(--sklearn-color-background);\n",
              "  border-radius: 1rem;\n",
              "  height: 1rem;\n",
              "  width: 1rem;\n",
              "  text-decoration: none;\n",
              "  /* unfitted */\n",
              "  color: var(--sklearn-color-unfitted-level-1);\n",
              "  border: var(--sklearn-color-unfitted-level-1) 1pt solid;\n",
              "}\n",
              "\n",
              "#sk-container-id-1 a.estimator_doc_link.fitted {\n",
              "  /* fitted */\n",
              "  border: var(--sklearn-color-fitted-level-1) 1pt solid;\n",
              "  color: var(--sklearn-color-fitted-level-1);\n",
              "}\n",
              "\n",
              "/* On hover */\n",
              "#sk-container-id-1 a.estimator_doc_link:hover {\n",
              "  /* unfitted */\n",
              "  background-color: var(--sklearn-color-unfitted-level-3);\n",
              "  color: var(--sklearn-color-background);\n",
              "  text-decoration: none;\n",
              "}\n",
              "\n",
              "#sk-container-id-1 a.estimator_doc_link.fitted:hover {\n",
              "  /* fitted */\n",
              "  background-color: var(--sklearn-color-fitted-level-3);\n",
              "}\n",
              "</style><div id=\"sk-container-id-1\" class=\"sk-top-container\"><div class=\"sk-text-repr-fallback\"><pre>KMeans(n_clusters=4, random_state=42)</pre><b>In a Jupyter environment, please rerun this cell to show the HTML representation or trust the notebook. <br />On GitHub, the HTML representation is unable to render, please try loading this page with nbviewer.org.</b></div><div class=\"sk-container\" hidden><div class=\"sk-item\"><div class=\"sk-estimator fitted sk-toggleable\"><input class=\"sk-toggleable__control sk-hidden--visually\" id=\"sk-estimator-id-1\" type=\"checkbox\" checked><label for=\"sk-estimator-id-1\" class=\"sk-toggleable__label fitted sk-toggleable__label-arrow fitted\">&nbsp;&nbsp;KMeans<a class=\"sk-estimator-doc-link fitted\" rel=\"noreferrer\" target=\"_blank\" href=\"https://scikit-learn.org/1.5/modules/generated/sklearn.cluster.KMeans.html\">?<span>Documentation for KMeans</span></a><span class=\"sk-estimator-doc-link fitted\">i<span>Fitted</span></span></label><div class=\"sk-toggleable__content fitted\"><pre>KMeans(n_clusters=4, random_state=42)</pre></div> </div></div></div></div>"
            ],
            "text/plain": [
              "KMeans(n_clusters=4, random_state=42)"
            ]
          },
          "execution_count": 34,
          "metadata": {},
          "output_type": "execute_result"
        }
      ],
      "source": [
        "kmeans"
      ]
    },
    {
      "cell_type": "code",
      "execution_count": 35,
      "metadata": {
        "colab": {
          "base_uri": "https://localhost:8080/"
        },
        "id": "107jwTCjcxF4",
        "outputId": "3df7775c-f40f-43fb-d21c-378acc897c75"
      },
      "outputs": [
        {
          "data": {
            "text/plain": [
              "array([3, 2, 2, ..., 0, 1, 2], dtype=int32)"
            ]
          },
          "execution_count": 35,
          "metadata": {},
          "output_type": "execute_result"
        }
      ],
      "source": [
        "kmeans.labels_"
      ]
    },
    {
      "cell_type": "code",
      "execution_count": 36,
      "metadata": {
        "colab": {
          "base_uri": "https://localhost:8080/"
        },
        "id": "ZqfJC02Hc0IQ",
        "outputId": "8da4845b-b3eb-461b-9e9f-b90cd1cd69db"
      },
      "outputs": [
        {
          "data": {
            "text/plain": [
              "array([[-1.24764632, -0.79906212, -1.06163557],\n",
              "       [ 0.21367049,  0.71161353, -0.6429527 ],\n",
              "       [ 1.20724665,  1.00854659,  0.86511523],\n",
              "       [-0.13088688, -0.84885426,  0.79977693]])"
            ]
          },
          "execution_count": 36,
          "metadata": {},
          "output_type": "execute_result"
        }
      ],
      "source": [
        "kmeans.cluster_centers_"
      ]
    },
    {
      "cell_type": "code",
      "execution_count": 37,
      "metadata": {
        "id": "UVmwHoK7c3Yp"
      },
      "outputs": [],
      "source": [
        "four_cluster_df = normalized_df[['TotalSales', 'OrderCount', 'AvgOrderValue']].copy(deep=True)\n",
        "four_cluster_df['Cluster'] = kmeans.labels_"
      ]
    },
    {
      "cell_type": "code",
      "execution_count": 38,
      "metadata": {
        "colab": {
          "base_uri": "https://localhost:8080/",
          "height": 238
        },
        "id": "rji6e89Zc95H",
        "outputId": "cc2df220-6a79-44ef-f92a-cb0ccd532daf"
      },
      "outputs": [
        {
          "data": {
            "text/html": [
              "<div>\n",
              "<style scoped>\n",
              "    .dataframe tbody tr th:only-of-type {\n",
              "        vertical-align: middle;\n",
              "    }\n",
              "\n",
              "    .dataframe tbody tr th {\n",
              "        vertical-align: top;\n",
              "    }\n",
              "\n",
              "    .dataframe thead th {\n",
              "        text-align: right;\n",
              "    }\n",
              "</style>\n",
              "<table border=\"1\" class=\"dataframe\">\n",
              "  <thead>\n",
              "    <tr style=\"text-align: right;\">\n",
              "      <th></th>\n",
              "      <th>TotalSales</th>\n",
              "      <th>OrderCount</th>\n",
              "      <th>AvgOrderValue</th>\n",
              "      <th>Cluster</th>\n",
              "    </tr>\n",
              "    <tr>\n",
              "      <th>CustomerID</th>\n",
              "      <th></th>\n",
              "      <th></th>\n",
              "      <th></th>\n",
              "      <th></th>\n",
              "    </tr>\n",
              "  </thead>\n",
              "  <tbody>\n",
              "    <tr>\n",
              "      <th>12346.0</th>\n",
              "      <td>1.724999</td>\n",
              "      <td>-1.731446</td>\n",
              "      <td>1.731446</td>\n",
              "      <td>3</td>\n",
              "    </tr>\n",
              "    <tr>\n",
              "      <th>12347.0</th>\n",
              "      <td>1.457445</td>\n",
              "      <td>1.064173</td>\n",
              "      <td>1.401033</td>\n",
              "      <td>2</td>\n",
              "    </tr>\n",
              "    <tr>\n",
              "      <th>12348.0</th>\n",
              "      <td>0.967466</td>\n",
              "      <td>0.573388</td>\n",
              "      <td>0.929590</td>\n",
              "      <td>2</td>\n",
              "    </tr>\n",
              "    <tr>\n",
              "      <th>12349.0</th>\n",
              "      <td>0.944096</td>\n",
              "      <td>-1.730641</td>\n",
              "      <td>1.683093</td>\n",
              "      <td>3</td>\n",
              "    </tr>\n",
              "    <tr>\n",
              "      <th>12350.0</th>\n",
              "      <td>-0.732148</td>\n",
              "      <td>-1.729835</td>\n",
              "      <td>0.331622</td>\n",
              "      <td>3</td>\n",
              "    </tr>\n",
              "  </tbody>\n",
              "</table>\n",
              "</div>"
            ],
            "text/plain": [
              "            TotalSales  OrderCount  AvgOrderValue  Cluster\n",
              "CustomerID                                                \n",
              "12346.0       1.724999   -1.731446       1.731446        3\n",
              "12347.0       1.457445    1.064173       1.401033        2\n",
              "12348.0       0.967466    0.573388       0.929590        2\n",
              "12349.0       0.944096   -1.730641       1.683093        3\n",
              "12350.0      -0.732148   -1.729835       0.331622        3"
            ]
          },
          "execution_count": 38,
          "metadata": {},
          "output_type": "execute_result"
        }
      ],
      "source": [
        "four_cluster_df.head()"
      ]
    },
    {
      "cell_type": "code",
      "execution_count": 39,
      "metadata": {
        "colab": {
          "base_uri": "https://localhost:8080/"
        },
        "id": "P2e1SMaydHNY",
        "outputId": "76de59a6-de2f-4e7c-94e5-ed7a746adbb6"
      },
      "outputs": [
        {
          "data": {
            "text/plain": [
              "Cluster\n",
              "0    1149\n",
              "1     953\n",
              "2    1133\n",
              "3    1063\n",
              "Name: TotalSales, dtype: int64"
            ]
          },
          "execution_count": 39,
          "metadata": {},
          "output_type": "execute_result"
        }
      ],
      "source": [
        "four_cluster_df.groupby('Cluster').count()['TotalSales']"
      ]
    },
    {
      "cell_type": "code",
      "execution_count": 40,
      "metadata": {
        "colab": {
          "base_uri": "https://localhost:8080/",
          "height": 472
        },
        "id": "CoTnjrsBdLZg",
        "outputId": "f2e52ac7-9de2-4023-8767-0f203f0ab562"
      },
      "outputs": [
        {
          "data": {
            "image/png": "[encoded data removed]",
            "text/plain": [
              "<Figure size 640x480 with 1 Axes>"
            ]
          },
          "metadata": {},
          "output_type": "display_data"
        }
      ],
      "source": [
        "plt.scatter(\n",
        "    four_cluster_df.loc[four_cluster_df['Cluster'] == 0]['OrderCount'],\n",
        "    four_cluster_df.loc[four_cluster_df['Cluster'] == 0]['TotalSales'],\n",
        "    c='blue'\n",
        ")\n",
        "\n",
        "plt.scatter(\n",
        "    four_cluster_df.loc[four_cluster_df['Cluster'] == 1]['OrderCount'],\n",
        "    four_cluster_df.loc[four_cluster_df['Cluster'] == 1]['TotalSales'],\n",
        "    c='red'\n",
        ")\n",
        "\n",
        "plt.scatter(\n",
        "    four_cluster_df.loc[four_cluster_df['Cluster'] == 2]['OrderCount'],\n",
        "    four_cluster_df.loc[four_cluster_df['Cluster'] == 2]['TotalSales'],\n",
        "    c='orange'\n",
        ")\n",
        "\n",
        "plt.scatter(\n",
        "    four_cluster_df.loc[four_cluster_df['Cluster'] == 3]['OrderCount'],\n",
        "    four_cluster_df.loc[four_cluster_df['Cluster'] == 3]['TotalSales'],\n",
        "    c='green'\n",
        ")\n",
        "\n",
        "plt.title('TotalSales vs. OrderCount Clusters')\n",
        "plt.xlabel('Order Count')\n",
        "plt.ylabel('Total Sales')\n",
        "\n",
        "plt.grid()\n",
        "plt.show()\n"
      ]
    },
    {
      "cell_type": "code",
      "execution_count": 41,
      "metadata": {
        "colab": {
          "base_uri": "https://localhost:8080/",
          "height": 472
        },
        "id": "wwZqAcVmdPuY",
        "outputId": "6118d732-91dd-440d-c4f1-857dc56e07b5"
      },
      "outputs": [
        {
          "data": {
            "image/png": "[encoded data removed]",
            "text/plain": [
              "<Figure size 640x480 with 1 Axes>"
            ]
          },
          "metadata": {},
          "output_type": "display_data"
        }
      ],
      "source": [
        "plt.scatter(\n",
        "    four_cluster_df.loc[four_cluster_df['Cluster'] == 0]['OrderCount'],\n",
        "    four_cluster_df.loc[four_cluster_df['Cluster'] == 0]['AvgOrderValue'],\n",
        "    c='blue'\n",
        ")\n",
        "\n",
        "plt.scatter(\n",
        "    four_cluster_df.loc[four_cluster_df['Cluster'] == 1]['OrderCount'],\n",
        "    four_cluster_df.loc[four_cluster_df['Cluster'] == 1]['AvgOrderValue'],\n",
        "    c='red'\n",
        ")\n",
        "\n",
        "plt.scatter(\n",
        "    four_cluster_df.loc[four_cluster_df['Cluster'] == 2]['OrderCount'],\n",
        "    four_cluster_df.loc[four_cluster_df['Cluster'] == 2]['AvgOrderValue'],\n",
        "    c='orange'\n",
        ")\n",
        "\n",
        "plt.scatter(\n",
        "    four_cluster_df.loc[four_cluster_df['Cluster'] == 3]['OrderCount'],\n",
        "    four_cluster_df.loc[four_cluster_df['Cluster'] == 3]['AvgOrderValue'],\n",
        "    c='green'\n",
        ")\n",
        "\n",
        "plt.title('AvgOrderValue vs. OrderCount Clusters')\n",
        "plt.xlabel('Order Count')\n",
        "plt.ylabel('Avg Order Value')\n",
        "\n",
        "plt.grid()\n",
        "plt.show()"
      ]
    },
    {
      "cell_type": "code",
      "execution_count": 42,
      "metadata": {
        "colab": {
          "base_uri": "https://localhost:8080/",
          "height": 472
        },
        "id": "jIULZdAAdTp4",
        "outputId": "edcf62f4-594d-41fa-fd79-70007c192bd3"
      },
      "outputs": [
        {
          "data": {
            "image/png": "[encoded data removed]",
            "text/plain": [
              "<Figure size 640x480 with 1 Axes>"
            ]
          },
          "metadata": {},
          "output_type": "display_data"
        }
      ],
      "source": [
        "plt.scatter(\n",
        "    four_cluster_df.loc[four_cluster_df['Cluster'] == 0]['TotalSales'],\n",
        "    four_cluster_df.loc[four_cluster_df['Cluster'] == 0]['AvgOrderValue'],\n",
        "    c='blue'\n",
        ")\n",
        "\n",
        "plt.scatter(\n",
        "    four_cluster_df.loc[four_cluster_df['Cluster'] == 1]['TotalSales'],\n",
        "    four_cluster_df.loc[four_cluster_df['Cluster'] == 1]['AvgOrderValue'],\n",
        "    c='red'\n",
        ")\n",
        "\n",
        "plt.scatter(\n",
        "    four_cluster_df.loc[four_cluster_df['Cluster'] == 2]['TotalSales'],\n",
        "    four_cluster_df.loc[four_cluster_df['Cluster'] == 2]['AvgOrderValue'],\n",
        "    c='orange'\n",
        ")\n",
        "\n",
        "plt.scatter(\n",
        "    four_cluster_df.loc[four_cluster_df['Cluster'] == 3]['TotalSales'],\n",
        "    four_cluster_df.loc[four_cluster_df['Cluster'] == 3]['AvgOrderValue'],\n",
        "    c='green'\n",
        ")\n",
        "\n",
        "plt.title('AvgOrderValue vs. TotalSales Clusters')\n",
        "plt.xlabel('Total Sales')\n",
        "plt.ylabel('Avg Order Value')\n",
        "\n",
        "plt.grid()\n",
        "plt.show()"
      ]
    },
    {
      "cell_type": "markdown",
      "metadata": {
        "id": "4kvW6-5odYt_"
      },
      "source": [
        "### - Selecting the best number of clusters"
      ]
    },
    {
      "cell_type": "code",
      "execution_count": 43,
      "metadata": {
        "id": "006tYsYDddKw"
      },
      "outputs": [],
      "source": [
        "from sklearn.metrics import silhouette_score"
      ]
    },
    {
      "cell_type": "code",
      "execution_count": 52,
      "metadata": {
        "colab": {
          "base_uri": "https://localhost:8080/"
        },
        "id": "h7vkjGg2dfeQ",
        "outputId": "9d2d62b6-e2c0-4767-80e2-7838f38c16b6"
      },
      "outputs": [
        {
          "name": "stdout",
          "output_type": "stream",
          "text": [
            "Silhouette Score for 2 Clusters: 0.4288\n",
            "Silhouette Score for 3 Clusters: 0.4133\n",
            "Silhouette Score for 4 Clusters: 0.4103\n",
            "Silhouette Score for 5 Clusters: 0.3776\n",
            "Silhouette Score for 6 Clusters: 0.3791\n",
            "Silhouette Score for 7 Clusters: 0.3912\n",
            "Silhouette Score for 8 Clusters: 0.3742\n"
          ]
        }
      ],
      "source": [
        "for n_cluster in [2,3,4,5,6,7,8]:\n",
        "    kmeans = KMeans(n_clusters=n_cluster).fit(\n",
        "        normalized_df[['TotalSales', 'OrderCount', 'AvgOrderValue']]\n",
        "    )\n",
        "    silhouette_avg = silhouette_score(\n",
        "        normalized_df[['TotalSales', 'OrderCount', 'AvgOrderValue']],\n",
        "        kmeans.labels_\n",
        "    )\n",
        "\n",
        "    print('Silhouette Score for %i Clusters: %0.4f' % (n_cluster, silhouette_avg))"
      ]
    },
    {
      "cell_type": "markdown",
      "metadata": {
        "id": "v2m6zdoUdmwI"
      },
      "source": [
        "### - Interpreting Customer Segments"
      ]
    },
    {
      "cell_type": "code",
      "execution_count": 45,
      "metadata": {
        "colab": {
          "base_uri": "https://localhost:8080/",
          "height": 606
        },
        "id": "lc3T7NtIdvwQ",
        "outputId": "db54b06a-10da-4e09-daf2-c3fab0a27aa2"
      },
      "outputs": [
        {
          "data": {
            "text/html": [
              "<div>\n",
              "<style scoped>\n",
              "    .dataframe tbody tr th:only-of-type {\n",
              "        vertical-align: middle;\n",
              "    }\n",
              "\n",
              "    .dataframe tbody tr th {\n",
              "        vertical-align: top;\n",
              "    }\n",
              "\n",
              "    .dataframe thead th {\n",
              "        text-align: right;\n",
              "    }\n",
              "</style>\n",
              "<table border=\"1\" class=\"dataframe\">\n",
              "  <thead>\n",
              "    <tr style=\"text-align: right;\">\n",
              "      <th></th>\n",
              "      <th>TotalSales</th>\n",
              "      <th>OrderCount</th>\n",
              "      <th>AvgOrderValue</th>\n",
              "      <th>Cluster</th>\n",
              "    </tr>\n",
              "    <tr>\n",
              "      <th>CustomerID</th>\n",
              "      <th></th>\n",
              "      <th></th>\n",
              "      <th></th>\n",
              "      <th></th>\n",
              "    </tr>\n",
              "  </thead>\n",
              "  <tbody>\n",
              "    <tr>\n",
              "      <th>12346.0</th>\n",
              "      <td>1.724999</td>\n",
              "      <td>-1.731446</td>\n",
              "      <td>1.731446</td>\n",
              "      <td>1</td>\n",
              "    </tr>\n",
              "    <tr>\n",
              "      <th>12347.0</th>\n",
              "      <td>1.457445</td>\n",
              "      <td>1.064173</td>\n",
              "      <td>1.401033</td>\n",
              "      <td>0</td>\n",
              "    </tr>\n",
              "    <tr>\n",
              "      <th>12348.0</th>\n",
              "      <td>0.967466</td>\n",
              "      <td>0.573388</td>\n",
              "      <td>0.929590</td>\n",
              "      <td>0</td>\n",
              "    </tr>\n",
              "    <tr>\n",
              "      <th>12349.0</th>\n",
              "      <td>0.944096</td>\n",
              "      <td>-1.730641</td>\n",
              "      <td>1.683093</td>\n",
              "      <td>1</td>\n",
              "    </tr>\n",
              "    <tr>\n",
              "      <th>12350.0</th>\n",
              "      <td>-0.732148</td>\n",
              "      <td>-1.729835</td>\n",
              "      <td>0.331622</td>\n",
              "      <td>1</td>\n",
              "    </tr>\n",
              "    <tr>\n",
              "      <th>12352.0</th>\n",
              "      <td>1.193114</td>\n",
              "      <td>1.309162</td>\n",
              "      <td>0.169639</td>\n",
              "      <td>0</td>\n",
              "    </tr>\n",
              "    <tr>\n",
              "      <th>12353.0</th>\n",
              "      <td>-1.636352</td>\n",
              "      <td>-1.729029</td>\n",
              "      <td>-1.570269</td>\n",
              "      <td>3</td>\n",
              "    </tr>\n",
              "    <tr>\n",
              "      <th>12354.0</th>\n",
              "      <td>0.508917</td>\n",
              "      <td>-1.728223</td>\n",
              "      <td>1.612981</td>\n",
              "      <td>1</td>\n",
              "    </tr>\n",
              "    <tr>\n",
              "      <th>12355.0</th>\n",
              "      <td>-0.386422</td>\n",
              "      <td>-1.727417</td>\n",
              "      <td>0.970690</td>\n",
              "      <td>1</td>\n",
              "    </tr>\n",
              "    <tr>\n",
              "      <th>12356.0</th>\n",
              "      <td>1.268868</td>\n",
              "      <td>0.158357</td>\n",
              "      <td>1.557375</td>\n",
              "      <td>0</td>\n",
              "    </tr>\n",
              "    <tr>\n",
              "      <th>12357.0</th>\n",
              "      <td>1.580746</td>\n",
              "      <td>-1.726611</td>\n",
              "      <td>1.729029</td>\n",
              "      <td>1</td>\n",
              "    </tr>\n",
              "    <tr>\n",
              "      <th>12358.0</th>\n",
              "      <td>-0.331622</td>\n",
              "      <td>-1.725805</td>\n",
              "      <td>1.045637</td>\n",
              "      <td>1</td>\n",
              "    </tr>\n",
              "    <tr>\n",
              "      <th>12359.0</th>\n",
              "      <td>1.585581</td>\n",
              "      <td>0.574194</td>\n",
              "      <td>1.672617</td>\n",
              "      <td>0</td>\n",
              "    </tr>\n",
              "    <tr>\n",
              "      <th>12360.0</th>\n",
              "      <td>1.233409</td>\n",
              "      <td>0.159163</td>\n",
              "      <td>1.537228</td>\n",
              "      <td>0</td>\n",
              "    </tr>\n",
              "    <tr>\n",
              "      <th>12361.0</th>\n",
              "      <td>-1.243079</td>\n",
              "      <td>-1.724999</td>\n",
              "      <td>-0.776471</td>\n",
              "      <td>3</td>\n",
              "    </tr>\n",
              "  </tbody>\n",
              "</table>\n",
              "</div>"
            ],
            "text/plain": [
              "            TotalSales  OrderCount  AvgOrderValue  Cluster\n",
              "CustomerID                                                \n",
              "12346.0       1.724999   -1.731446       1.731446        1\n",
              "12347.0       1.457445    1.064173       1.401033        0\n",
              "12348.0       0.967466    0.573388       0.929590        0\n",
              "12349.0       0.944096   -1.730641       1.683093        1\n",
              "12350.0      -0.732148   -1.729835       0.331622        1\n",
              "12352.0       1.193114    1.309162       0.169639        0\n",
              "12353.0      -1.636352   -1.729029      -1.570269        3\n",
              "12354.0       0.508917   -1.728223       1.612981        1\n",
              "12355.0      -0.386422   -1.727417       0.970690        1\n",
              "12356.0       1.268868    0.158357       1.557375        0\n",
              "12357.0       1.580746   -1.726611       1.729029        1\n",
              "12358.0      -0.331622   -1.725805       1.045637        1\n",
              "12359.0       1.585581    0.574194       1.672617        0\n",
              "12360.0       1.233409    0.159163       1.537228        0\n",
              "12361.0      -1.243079   -1.724999      -0.776471        3"
            ]
          },
          "execution_count": 45,
          "metadata": {},
          "output_type": "execute_result"
        }
      ],
      "source": [
        "kmeans = KMeans(n_clusters=4).fit(\n",
        "    normalized_df[['TotalSales', 'OrderCount', 'AvgOrderValue']]\n",
        ")\n",
        "four_cluster_df = normalized_df[['TotalSales', 'OrderCount', 'AvgOrderValue']].copy(deep=True)\n",
        "four_cluster_df['Cluster'] = kmeans.labels_\n",
        "four_cluster_df.head(15)"
      ]
    },
    {
      "cell_type": "code",
      "execution_count": 46,
      "metadata": {
        "colab": {
          "base_uri": "https://localhost:8080/"
        },
        "id": "lUZESTOPd6e8",
        "outputId": "a4b8e4f6-dfcc-4383-e160-2e2619ab76a3"
      },
      "outputs": [
        {
          "data": {
            "text/plain": [
              "array([[ 1.20261092,  0.96004509,  0.94134735],\n",
              "       [-0.16044419, -0.85567505,  0.76388977],\n",
              "       [ 0.33432183,  0.81308401, -0.60715659],\n",
              "       [-1.21409232, -0.75468823, -1.05466576]])"
            ]
          },
          "execution_count": 46,
          "metadata": {},
          "output_type": "execute_result"
        }
      ],
      "source": [
        "kmeans.cluster_centers_\n",
        "\n"
      ]
    },
    {
      "cell_type": "code",
      "execution_count": 47,
      "metadata": {
        "colab": {
          "base_uri": "https://localhost:8080/",
          "height": 238
        },
        "id": "SvtNedJ2eBUw",
        "outputId": "956a9635-4132-49ee-8743-1384c49b4c67"
      },
      "outputs": [
        {
          "data": {
            "text/html": [
              "<div>\n",
              "<style scoped>\n",
              "    .dataframe tbody tr th:only-of-type {\n",
              "        vertical-align: middle;\n",
              "    }\n",
              "\n",
              "    .dataframe tbody tr th {\n",
              "        vertical-align: top;\n",
              "    }\n",
              "\n",
              "    .dataframe thead th {\n",
              "        text-align: right;\n",
              "    }\n",
              "</style>\n",
              "<table border=\"1\" class=\"dataframe\">\n",
              "  <thead>\n",
              "    <tr style=\"text-align: right;\">\n",
              "      <th></th>\n",
              "      <th>TotalSales</th>\n",
              "      <th>OrderCount</th>\n",
              "      <th>AvgOrderValue</th>\n",
              "      <th>Cluster</th>\n",
              "    </tr>\n",
              "    <tr>\n",
              "      <th>CustomerID</th>\n",
              "      <th></th>\n",
              "      <th></th>\n",
              "      <th></th>\n",
              "      <th></th>\n",
              "    </tr>\n",
              "  </thead>\n",
              "  <tbody>\n",
              "    <tr>\n",
              "      <th>12364.0</th>\n",
              "      <td>0.425911</td>\n",
              "      <td>0.159968</td>\n",
              "      <td>0.330816</td>\n",
              "      <td>2</td>\n",
              "    </tr>\n",
              "    <tr>\n",
              "      <th>12395.0</th>\n",
              "      <td>1.305939</td>\n",
              "      <td>1.515469</td>\n",
              "      <td>-0.250228</td>\n",
              "      <td>2</td>\n",
              "    </tr>\n",
              "    <tr>\n",
              "      <th>12399.0</th>\n",
              "      <td>0.533094</td>\n",
              "      <td>0.578223</td>\n",
              "      <td>-0.104362</td>\n",
              "      <td>2</td>\n",
              "    </tr>\n",
              "    <tr>\n",
              "      <th>12413.0</th>\n",
              "      <td>0.160774</td>\n",
              "      <td>0.163192</td>\n",
              "      <td>-0.243781</td>\n",
              "      <td>2</td>\n",
              "    </tr>\n",
              "    <tr>\n",
              "      <th>12414.0</th>\n",
              "      <td>-0.180921</td>\n",
              "      <td>0.163998</td>\n",
              "      <td>-0.796618</td>\n",
              "      <td>2</td>\n",
              "    </tr>\n",
              "  </tbody>\n",
              "</table>\n",
              "</div>"
            ],
            "text/plain": [
              "            TotalSales  OrderCount  AvgOrderValue  Cluster\n",
              "CustomerID                                                \n",
              "12364.0       0.425911    0.159968       0.330816        2\n",
              "12395.0       1.305939    1.515469      -0.250228        2\n",
              "12399.0       0.533094    0.578223      -0.104362        2\n",
              "12413.0       0.160774    0.163192      -0.243781        2\n",
              "12414.0      -0.180921    0.163998      -0.796618        2"
            ]
          },
          "execution_count": 47,
          "metadata": {},
          "output_type": "execute_result"
        }
      ],
      "source": [
        "high_value_cluster = four_cluster_df.loc[four_cluster_df['Cluster'] == 2]\n",
        "high_value_cluster.head()"
      ]
    },
    {
      "cell_type": "code",
      "execution_count": 48,
      "metadata": {
        "colab": {
          "base_uri": "https://localhost:8080/",
          "height": 300
        },
        "id": "v3IM7HrYeFOI",
        "outputId": "2cb63b61-4336-4fb1-b27a-06f10301964e"
      },
      "outputs": [
        {
          "data": {
            "text/html": [
              "<div>\n",
              "<style scoped>\n",
              "    .dataframe tbody tr th:only-of-type {\n",
              "        vertical-align: middle;\n",
              "    }\n",
              "\n",
              "    .dataframe tbody tr th {\n",
              "        vertical-align: top;\n",
              "    }\n",
              "\n",
              "    .dataframe thead th {\n",
              "        text-align: right;\n",
              "    }\n",
              "</style>\n",
              "<table border=\"1\" class=\"dataframe\">\n",
              "  <thead>\n",
              "    <tr style=\"text-align: right;\">\n",
              "      <th></th>\n",
              "      <th>TotalSales</th>\n",
              "      <th>OrderCount</th>\n",
              "      <th>AvgOrderValue</th>\n",
              "    </tr>\n",
              "  </thead>\n",
              "  <tbody>\n",
              "    <tr>\n",
              "      <th>count</th>\n",
              "      <td>943.000000</td>\n",
              "      <td>943.000000</td>\n",
              "      <td>943.000000</td>\n",
              "    </tr>\n",
              "    <tr>\n",
              "      <th>mean</th>\n",
              "      <td>1193.762261</td>\n",
              "      <td>6.004242</td>\n",
              "      <td>211.465410</td>\n",
              "    </tr>\n",
              "    <tr>\n",
              "      <th>std</th>\n",
              "      <td>1436.994338</td>\n",
              "      <td>8.801176</td>\n",
              "      <td>58.252196</td>\n",
              "    </tr>\n",
              "    <tr>\n",
              "      <th>min</th>\n",
              "      <td>201.120000</td>\n",
              "      <td>2.000000</td>\n",
              "      <td>28.731429</td>\n",
              "    </tr>\n",
              "    <tr>\n",
              "      <th>25%</th>\n",
              "      <td>605.720000</td>\n",
              "      <td>3.000000</td>\n",
              "      <td>168.317065</td>\n",
              "    </tr>\n",
              "    <tr>\n",
              "      <th>50%</th>\n",
              "      <td>884.140000</td>\n",
              "      <td>4.000000</td>\n",
              "      <td>211.440000</td>\n",
              "    </tr>\n",
              "    <tr>\n",
              "      <th>75%</th>\n",
              "      <td>1366.865000</td>\n",
              "      <td>6.000000</td>\n",
              "      <td>251.626250</td>\n",
              "    </tr>\n",
              "    <tr>\n",
              "      <th>max</th>\n",
              "      <td>32649.460000</td>\n",
              "      <td>201.000000</td>\n",
              "      <td>339.920000</td>\n",
              "    </tr>\n",
              "  </tbody>\n",
              "</table>\n",
              "</div>"
            ],
            "text/plain": [
              "         TotalSales  OrderCount  AvgOrderValue\n",
              "count    943.000000  943.000000     943.000000\n",
              "mean    1193.762261    6.004242     211.465410\n",
              "std     1436.994338    8.801176      58.252196\n",
              "min      201.120000    2.000000      28.731429\n",
              "25%      605.720000    3.000000     168.317065\n",
              "50%      884.140000    4.000000     211.440000\n",
              "75%     1366.865000    6.000000     251.626250\n",
              "max    32649.460000  201.000000     339.920000"
            ]
          },
          "execution_count": 48,
          "metadata": {},
          "output_type": "execute_result"
        }
      ],
      "source": [
        "customer_df.loc[high_value_cluster.index].describe()"
      ]
    },
    {
      "cell_type": "code",
      "execution_count": 49,
      "metadata": {
        "colab": {
          "base_uri": "https://localhost:8080/",
          "height": 238
        },
        "id": "n2B7VrWieICH",
        "outputId": "a5e15965-9393-419d-93b6-3f5c8e34e00b"
      },
      "outputs": [
        {
          "data": {
            "text/html": [
              "<div>\n",
              "<style scoped>\n",
              "    .dataframe tbody tr th:only-of-type {\n",
              "        vertical-align: middle;\n",
              "    }\n",
              "\n",
              "    .dataframe tbody tr th {\n",
              "        vertical-align: top;\n",
              "    }\n",
              "\n",
              "    .dataframe thead th {\n",
              "        text-align: right;\n",
              "    }\n",
              "</style>\n",
              "<table border=\"1\" class=\"dataframe\">\n",
              "  <thead>\n",
              "    <tr style=\"text-align: right;\">\n",
              "      <th></th>\n",
              "      <th>StockCode</th>\n",
              "    </tr>\n",
              "    <tr>\n",
              "      <th>Description</th>\n",
              "      <th></th>\n",
              "    </tr>\n",
              "  </thead>\n",
              "  <tbody>\n",
              "    <tr>\n",
              "      <th>WHITE HANGING HEART T-LIGHT HOLDER</th>\n",
              "      <td>694</td>\n",
              "    </tr>\n",
              "    <tr>\n",
              "      <th>REX CASH+CARRY JUMBO SHOPPER</th>\n",
              "      <td>454</td>\n",
              "    </tr>\n",
              "    <tr>\n",
              "      <th>PARTY BUNTING</th>\n",
              "      <td>353</td>\n",
              "    </tr>\n",
              "    <tr>\n",
              "      <th>ASSORTED COLOUR BIRD ORNAMENT</th>\n",
              "      <td>348</td>\n",
              "    </tr>\n",
              "    <tr>\n",
              "      <th>REGENCY CAKESTAND 3 TIER</th>\n",
              "      <td>345</td>\n",
              "    </tr>\n",
              "  </tbody>\n",
              "</table>\n",
              "</div>"
            ],
            "text/plain": [
              "                                    StockCode\n",
              "Description                                  \n",
              "WHITE HANGING HEART T-LIGHT HOLDER        694\n",
              "REX CASH+CARRY JUMBO SHOPPER              454\n",
              "PARTY BUNTING                             353\n",
              "ASSORTED COLOUR BIRD ORNAMENT             348\n",
              "REGENCY CAKESTAND 3 TIER                  345"
            ]
          },
          "execution_count": 49,
          "metadata": {},
          "output_type": "execute_result"
        }
      ],
      "source": [
        "pd.DataFrame(\n",
        "    df.loc[\n",
        "        df['CustomerID'].isin(high_value_cluster.index)\n",
        "    ].groupby('Description').count()[\n",
        "        'StockCode'\n",
        "    ].sort_values(ascending=False).head()\n",
        ")"
      ]
    },
    {
      "cell_type": "code",
      "execution_count": 50,
      "metadata": {
        "colab": {
          "base_uri": "https://localhost:8080/",
          "height": 238
        },
        "id": "FTnyfwmTeK6x",
        "outputId": "74ac692b-f7a4-46ca-e1e9-fb989a8e6c71"
      },
      "outputs": [
        {
          "data": {
            "text/html": [
              "<div>\n",
              "<style scoped>\n",
              "    .dataframe tbody tr th:only-of-type {\n",
              "        vertical-align: middle;\n",
              "    }\n",
              "\n",
              "    .dataframe tbody tr th {\n",
              "        vertical-align: top;\n",
              "    }\n",
              "\n",
              "    .dataframe thead th {\n",
              "        text-align: right;\n",
              "    }\n",
              "</style>\n",
              "<table border=\"1\" class=\"dataframe\">\n",
              "  <thead>\n",
              "    <tr style=\"text-align: right;\">\n",
              "      <th></th>\n",
              "      <th>StockCode</th>\n",
              "    </tr>\n",
              "    <tr>\n",
              "      <th>Description</th>\n",
              "      <th></th>\n",
              "    </tr>\n",
              "  </thead>\n",
              "  <tbody>\n",
              "    <tr>\n",
              "      <th>REX CASH+CARRY JUMBO SHOPPER</th>\n",
              "      <td>154</td>\n",
              "    </tr>\n",
              "    <tr>\n",
              "      <th>WHITE HANGING HEART T-LIGHT HOLDER</th>\n",
              "      <td>139</td>\n",
              "    </tr>\n",
              "    <tr>\n",
              "      <th>REGENCY CAKESTAND 3 TIER</th>\n",
              "      <td>88</td>\n",
              "    </tr>\n",
              "    <tr>\n",
              "      <th>ASSORTED COLOUR BIRD ORNAMENT</th>\n",
              "      <td>81</td>\n",
              "    </tr>\n",
              "    <tr>\n",
              "      <th>BAKING SET 9 PIECE RETROSPOT</th>\n",
              "      <td>80</td>\n",
              "    </tr>\n",
              "  </tbody>\n",
              "</table>\n",
              "</div>"
            ],
            "text/plain": [
              "                                    StockCode\n",
              "Description                                  \n",
              "REX CASH+CARRY JUMBO SHOPPER              154\n",
              "WHITE HANGING HEART T-LIGHT HOLDER        139\n",
              "REGENCY CAKESTAND 3 TIER                   88\n",
              "ASSORTED COLOUR BIRD ORNAMENT              81\n",
              "BAKING SET 9 PIECE RETROSPOT               80"
            ]
          },
          "execution_count": 50,
          "metadata": {},
          "output_type": "execute_result"
        }
      ],
      "source": [
        "pd.DataFrame(\n",
        "    df.loc[\n",
        "        df['CustomerID'].isin(\n",
        "            four_cluster_df.loc[four_cluster_df['Cluster'] == 3].index\n",
        "        )\n",
        "    ].groupby('Description').count()[\n",
        "        'StockCode'\n",
        "    ].sort_values(ascending=False).head()\n",
        ")"
      ]
    }
  ],
  "metadata": {
    "colab": {
      "provenance": []
    },
    "kernelspec": {
      "display_name": "Python 3",
      "name": "python3"
    },
    "language_info": {
      "codemirror_mode": {
        "name": "ipython",
        "version": 3
      },
      "file_extension": ".py",
      "mimetype": "text/x-python",
      "name": "python",
      "nbconvert_exporter": "python",
      "pygments_lexer": "ipython3",
      "version": "3.12.9"
    }
  },
  "nbformat": 4,
  "nbformat_minor": 0
}
